{
 "cells": [
  {
   "cell_type": "markdown",
   "id": "9a99a38b",
   "metadata": {
    "papermill": {
     "duration": 0.045942,
     "end_time": "2022-03-26T20:45:28.919595",
     "exception": false,
     "start_time": "2022-03-26T20:45:28.873653",
     "status": "completed"
    },
    "tags": []
   },
   "source": [
    "# Туториал по двухэтапной модели"
   ]
  },
  {
   "cell_type": "code",
   "execution_count": 1,
   "id": "bc397b56",
   "metadata": {
    "ExecuteTime": {
     "start_time": "2021-11-11T16:13:57.529Z"
    },
    "execution": {
     "iopub.execute_input": "2022-03-26T20:45:29.017117Z",
     "iopub.status.busy": "2022-03-26T20:45:29.016472Z",
     "iopub.status.idle": "2022-03-26T20:45:30.197858Z",
     "shell.execute_reply": "2022-03-26T20:45:30.196978Z",
     "shell.execute_reply.started": "2022-03-26T20:40:22.062036Z"
    },
    "papermill": {
     "duration": 1.233782,
     "end_time": "2022-03-26T20:45:30.198050",
     "exception": false,
     "start_time": "2022-03-26T20:45:28.964268",
     "status": "completed"
    },
    "tags": []
   },
   "outputs": [],
   "source": [
    "import datetime\n",
    "import dill\n",
    "import numpy as np\n",
    "import pandas as pd\n",
    "from tqdm.auto import tqdm\n",
    "import pyarrow.parquet as pq\n",
    "from zipfile import ZipFile\n",
    "import matplotlib.pyplot as plt\n",
    "from sklearn.utils import shuffle\n",
    "from sklearn.model_selection import train_test_split\n",
    "import warnings\n",
    "warnings.simplefilter('ignore')\n",
    "\n",
    "pd.set_option('display.max_columns', None)\n",
    "pd.set_option('display.max_colwidth', 20)"
   ]
  },
  {
   "cell_type": "code",
   "execution_count": 2,
   "id": "ac2b36f2",
   "metadata": {
    "execution": {
     "iopub.execute_input": "2022-03-26T20:45:30.295608Z",
     "iopub.status.busy": "2022-03-26T20:45:30.294854Z",
     "iopub.status.idle": "2022-03-26T20:45:37.997287Z",
     "shell.execute_reply": "2022-03-26T20:45:37.997874Z",
     "shell.execute_reply.started": "2022-03-26T20:40:23.415568Z"
    },
    "papermill": {
     "duration": 7.751984,
     "end_time": "2022-03-26T20:45:37.998082",
     "exception": false,
     "start_time": "2022-03-26T20:45:30.246098",
     "status": "completed"
    },
    "tags": []
   },
   "outputs": [
    {
     "name": "stdout",
     "output_type": "stream",
     "text": [
      "(4529889, 8)\n"
     ]
    },
    {
     "data": {
      "text/html": [
       "<div>\n",
       "<style scoped>\n",
       "    .dataframe tbody tr th:only-of-type {\n",
       "        vertical-align: middle;\n",
       "    }\n",
       "\n",
       "    .dataframe tbody tr th {\n",
       "        vertical-align: top;\n",
       "    }\n",
       "\n",
       "    .dataframe thead th {\n",
       "        text-align: right;\n",
       "    }\n",
       "</style>\n",
       "<table border=\"1\" class=\"dataframe\">\n",
       "  <thead>\n",
       "    <tr style=\"text-align: right;\">\n",
       "      <th></th>\n",
       "      <th>buyer_id</th>\n",
       "      <th>pav_order_id</th>\n",
       "      <th>created</th>\n",
       "      <th>item_id</th>\n",
       "      <th>count</th>\n",
       "      <th>price_sold</th>\n",
       "      <th>flag_weight_goods</th>\n",
       "      <th>weight</th>\n",
       "    </tr>\n",
       "  </thead>\n",
       "  <tbody>\n",
       "    <tr>\n",
       "      <th>4211162</th>\n",
       "      <td>96056710</td>\n",
       "      <td>98518487221</td>\n",
       "      <td>2021-08-27 14:53:57</td>\n",
       "      <td>210909485</td>\n",
       "      <td>1.000</td>\n",
       "      <td>99.990</td>\n",
       "      <td>False</td>\n",
       "      <td>16.36</td>\n",
       "    </tr>\n",
       "    <tr>\n",
       "      <th>3764669</th>\n",
       "      <td>95211810</td>\n",
       "      <td>98516989715</td>\n",
       "      <td>2021-08-20 18:31:06</td>\n",
       "      <td>203370019</td>\n",
       "      <td>9.400</td>\n",
       "      <td>179.900</td>\n",
       "      <td>True</td>\n",
       "      <td>24.75</td>\n",
       "    </tr>\n",
       "    <tr>\n",
       "      <th>2324309</th>\n",
       "      <td>94989600</td>\n",
       "      <td>98513078345</td>\n",
       "      <td>2021-08-01 06:38:20</td>\n",
       "      <td>205102516</td>\n",
       "      <td>1.000</td>\n",
       "      <td>369.490</td>\n",
       "      <td>False</td>\n",
       "      <td>20.27</td>\n",
       "    </tr>\n",
       "    <tr>\n",
       "      <th>1938813</th>\n",
       "      <td>94861727</td>\n",
       "      <td>98512092861</td>\n",
       "      <td>2021-07-26 17:03:28</td>\n",
       "      <td>202880262</td>\n",
       "      <td>0.994</td>\n",
       "      <td>57.495</td>\n",
       "      <td>True</td>\n",
       "      <td>11.90</td>\n",
       "    </tr>\n",
       "    <tr>\n",
       "      <th>4521696</th>\n",
       "      <td>94989802</td>\n",
       "      <td>98520608711</td>\n",
       "      <td>2021-09-05 09:35:24</td>\n",
       "      <td>203388161</td>\n",
       "      <td>1.000</td>\n",
       "      <td>301.990</td>\n",
       "      <td>False</td>\n",
       "      <td>29.83</td>\n",
       "    </tr>\n",
       "    <tr>\n",
       "      <th>4064970</th>\n",
       "      <td>95584821</td>\n",
       "      <td>98517951126</td>\n",
       "      <td>2021-08-25 11:49:13</td>\n",
       "      <td>203382198</td>\n",
       "      <td>2.000</td>\n",
       "      <td>64.990</td>\n",
       "      <td>False</td>\n",
       "      <td>19.78</td>\n",
       "    </tr>\n",
       "    <tr>\n",
       "      <th>1324233</th>\n",
       "      <td>95095759</td>\n",
       "      <td>98510445731</td>\n",
       "      <td>2021-07-18 13:03:24</td>\n",
       "      <td>203370019</td>\n",
       "      <td>5.246</td>\n",
       "      <td>644.850</td>\n",
       "      <td>True</td>\n",
       "      <td>43.31</td>\n",
       "    </tr>\n",
       "    <tr>\n",
       "      <th>1051546</th>\n",
       "      <td>95155977</td>\n",
       "      <td>98509712998</td>\n",
       "      <td>2021-07-15 06:21:44</td>\n",
       "      <td>202808349</td>\n",
       "      <td>1.000</td>\n",
       "      <td>44.990</td>\n",
       "      <td>False</td>\n",
       "      <td>10.86</td>\n",
       "    </tr>\n",
       "    <tr>\n",
       "      <th>4203023</th>\n",
       "      <td>95695687</td>\n",
       "      <td>98518458718</td>\n",
       "      <td>2021-08-27 13:13:24</td>\n",
       "      <td>202820148</td>\n",
       "      <td>0.948</td>\n",
       "      <td>42.820</td>\n",
       "      <td>True</td>\n",
       "      <td>17.08</td>\n",
       "    </tr>\n",
       "    <tr>\n",
       "      <th>1096150</th>\n",
       "      <td>94616960</td>\n",
       "      <td>98509823053</td>\n",
       "      <td>2021-07-15 15:01:18</td>\n",
       "      <td>202807138</td>\n",
       "      <td>2.000</td>\n",
       "      <td>241.490</td>\n",
       "      <td>False</td>\n",
       "      <td>13.56</td>\n",
       "    </tr>\n",
       "  </tbody>\n",
       "</table>\n",
       "</div>"
      ],
      "text/plain": [
       "         buyer_id  pav_order_id              created    item_id  count  \\\n",
       "4211162  96056710   98518487221  2021-08-27 14:53:57  210909485  1.000   \n",
       "3764669  95211810   98516989715  2021-08-20 18:31:06  203370019  9.400   \n",
       "2324309  94989600   98513078345  2021-08-01 06:38:20  205102516  1.000   \n",
       "1938813  94861727   98512092861  2021-07-26 17:03:28  202880262  0.994   \n",
       "4521696  94989802   98520608711  2021-09-05 09:35:24  203388161  1.000   \n",
       "4064970  95584821   98517951126  2021-08-25 11:49:13  203382198  2.000   \n",
       "1324233  95095759   98510445731  2021-07-18 13:03:24  203370019  5.246   \n",
       "1051546  95155977   98509712998  2021-07-15 06:21:44  202808349  1.000   \n",
       "4203023  95695687   98518458718  2021-08-27 13:13:24  202820148  0.948   \n",
       "1096150  94616960   98509823053  2021-07-15 15:01:18  202807138  2.000   \n",
       "\n",
       "         price_sold  flag_weight_goods  weight  \n",
       "4211162      99.990              False   16.36  \n",
       "3764669     179.900               True   24.75  \n",
       "2324309     369.490              False   20.27  \n",
       "1938813      57.495               True   11.90  \n",
       "4521696     301.990              False   29.83  \n",
       "4064970      64.990              False   19.78  \n",
       "1324233     644.850               True   43.31  \n",
       "1051546      44.990              False   10.86  \n",
       "4203023      42.820               True   17.08  \n",
       "1096150     241.490              False   13.56  "
      ]
     },
     "execution_count": 2,
     "metadata": {},
     "output_type": "execute_result"
    }
   ],
   "source": [
    "train = pd.read_csv('../input/hack-the-cart/hist_data.csv')\n",
    "print(train.shape)\n",
    "train.sample(10)"
   ]
  },
  {
   "cell_type": "code",
   "execution_count": 3,
   "id": "620b58a0",
   "metadata": {
    "execution": {
     "iopub.execute_input": "2022-03-26T20:45:38.096307Z",
     "iopub.status.busy": "2022-03-26T20:45:38.095580Z",
     "iopub.status.idle": "2022-03-26T20:45:40.034972Z",
     "shell.execute_reply": "2022-03-26T20:45:40.034199Z",
     "shell.execute_reply.started": "2022-03-26T20:40:32.155896Z"
    },
    "papermill": {
     "duration": 1.990239,
     "end_time": "2022-03-26T20:45:40.035140",
     "exception": false,
     "start_time": "2022-03-26T20:45:38.044901",
     "status": "completed"
    },
    "tags": []
   },
   "outputs": [
    {
     "name": "stdout",
     "output_type": "stream",
     "text": [
      "(1081420, 7)\n"
     ]
    },
    {
     "data": {
      "text/html": [
       "<div>\n",
       "<style scoped>\n",
       "    .dataframe tbody tr th:only-of-type {\n",
       "        vertical-align: middle;\n",
       "    }\n",
       "\n",
       "    .dataframe tbody tr th {\n",
       "        vertical-align: top;\n",
       "    }\n",
       "\n",
       "    .dataframe thead th {\n",
       "        text-align: right;\n",
       "    }\n",
       "</style>\n",
       "<table border=\"1\" class=\"dataframe\">\n",
       "  <thead>\n",
       "    <tr style=\"text-align: right;\">\n",
       "      <th></th>\n",
       "      <th>buyer_id</th>\n",
       "      <th>pav_order_id</th>\n",
       "      <th>created</th>\n",
       "      <th>item_id</th>\n",
       "      <th>count</th>\n",
       "      <th>price_sold</th>\n",
       "      <th>flag_weight_goods</th>\n",
       "    </tr>\n",
       "  </thead>\n",
       "  <tbody>\n",
       "    <tr>\n",
       "      <th>714794</th>\n",
       "      <td>96003592</td>\n",
       "      <td>98514333353</td>\n",
       "      <td>2021-08-07 13:22:02</td>\n",
       "      <td>202808298</td>\n",
       "      <td>1.000</td>\n",
       "      <td>66.990</td>\n",
       "      <td>False</td>\n",
       "    </tr>\n",
       "    <tr>\n",
       "      <th>914813</th>\n",
       "      <td>95101141</td>\n",
       "      <td>98514525578</td>\n",
       "      <td>2021-08-08 12:31:11</td>\n",
       "      <td>203015414</td>\n",
       "      <td>1.000</td>\n",
       "      <td>128.390</td>\n",
       "      <td>False</td>\n",
       "    </tr>\n",
       "    <tr>\n",
       "      <th>703176</th>\n",
       "      <td>95523965</td>\n",
       "      <td>4620152007</td>\n",
       "      <td>2021-07-21 11:34:20</td>\n",
       "      <td>211072597</td>\n",
       "      <td>4.000</td>\n",
       "      <td>14.990</td>\n",
       "      <td>False</td>\n",
       "    </tr>\n",
       "    <tr>\n",
       "      <th>772461</th>\n",
       "      <td>96072065</td>\n",
       "      <td>98516481579</td>\n",
       "      <td>2021-08-18 12:19:09</td>\n",
       "      <td>203566523</td>\n",
       "      <td>1.000</td>\n",
       "      <td>299.990</td>\n",
       "      <td>False</td>\n",
       "    </tr>\n",
       "    <tr>\n",
       "      <th>509393</th>\n",
       "      <td>95497745</td>\n",
       "      <td>98520656098</td>\n",
       "      <td>2021-09-05 11:48:14</td>\n",
       "      <td>204257910</td>\n",
       "      <td>1.000</td>\n",
       "      <td>60.310</td>\n",
       "      <td>False</td>\n",
       "    </tr>\n",
       "    <tr>\n",
       "      <th>237451</th>\n",
       "      <td>95367942</td>\n",
       "      <td>98519422221</td>\n",
       "      <td>2021-08-31 14:41:10</td>\n",
       "      <td>202854572</td>\n",
       "      <td>0.964</td>\n",
       "      <td>27.495</td>\n",
       "      <td>True</td>\n",
       "    </tr>\n",
       "    <tr>\n",
       "      <th>487869</th>\n",
       "      <td>95384538</td>\n",
       "      <td>98519845218</td>\n",
       "      <td>2021-09-02 13:16:56</td>\n",
       "      <td>203455264</td>\n",
       "      <td>1.000</td>\n",
       "      <td>44.990</td>\n",
       "      <td>False</td>\n",
       "    </tr>\n",
       "    <tr>\n",
       "      <th>951638</th>\n",
       "      <td>95200201</td>\n",
       "      <td>98520597413</td>\n",
       "      <td>2021-09-05 08:57:41</td>\n",
       "      <td>202838185</td>\n",
       "      <td>1.000</td>\n",
       "      <td>51.990</td>\n",
       "      <td>False</td>\n",
       "    </tr>\n",
       "    <tr>\n",
       "      <th>348142</th>\n",
       "      <td>95234467</td>\n",
       "      <td>98517709392</td>\n",
       "      <td>2021-08-24 10:27:00</td>\n",
       "      <td>203425610</td>\n",
       "      <td>1.000</td>\n",
       "      <td>138.320</td>\n",
       "      <td>False</td>\n",
       "    </tr>\n",
       "    <tr>\n",
       "      <th>142406</th>\n",
       "      <td>94920918</td>\n",
       "      <td>98515121977</td>\n",
       "      <td>2021-08-11 15:04:56</td>\n",
       "      <td>205781292</td>\n",
       "      <td>1.000</td>\n",
       "      <td>47.990</td>\n",
       "      <td>False</td>\n",
       "    </tr>\n",
       "  </tbody>\n",
       "</table>\n",
       "</div>"
      ],
      "text/plain": [
       "        buyer_id  pav_order_id              created    item_id  count  \\\n",
       "714794  96003592   98514333353  2021-08-07 13:22:02  202808298  1.000   \n",
       "914813  95101141   98514525578  2021-08-08 12:31:11  203015414  1.000   \n",
       "703176  95523965    4620152007  2021-07-21 11:34:20  211072597  4.000   \n",
       "772461  96072065   98516481579  2021-08-18 12:19:09  203566523  1.000   \n",
       "509393  95497745   98520656098  2021-09-05 11:48:14  204257910  1.000   \n",
       "237451  95367942   98519422221  2021-08-31 14:41:10  202854572  0.964   \n",
       "487869  95384538   98519845218  2021-09-02 13:16:56  203455264  1.000   \n",
       "951638  95200201   98520597413  2021-09-05 08:57:41  202838185  1.000   \n",
       "348142  95234467   98517709392  2021-08-24 10:27:00  203425610  1.000   \n",
       "142406  94920918   98515121977  2021-08-11 15:04:56  205781292  1.000   \n",
       "\n",
       "        price_sold  flag_weight_goods  \n",
       "714794      66.990              False  \n",
       "914813     128.390              False  \n",
       "703176      14.990              False  \n",
       "772461     299.990              False  \n",
       "509393      60.310              False  \n",
       "237451      27.495               True  \n",
       "487869      44.990              False  \n",
       "951638      51.990              False  \n",
       "348142     138.320              False  \n",
       "142406      47.990              False  "
      ]
     },
     "execution_count": 3,
     "metadata": {},
     "output_type": "execute_result"
    }
   ],
   "source": [
    "test = pd.read_csv('../input/hack-the-cart/test.csv')\n",
    "print(test.shape)\n",
    "test.sample(10)"
   ]
  },
  {
   "cell_type": "code",
   "execution_count": 4,
   "id": "c08c9ae6",
   "metadata": {
    "execution": {
     "iopub.execute_input": "2022-03-26T20:45:40.133981Z",
     "iopub.status.busy": "2022-03-26T20:45:40.132100Z",
     "iopub.status.idle": "2022-03-26T20:45:40.136303Z",
     "shell.execute_reply": "2022-03-26T20:45:40.136799Z",
     "shell.execute_reply.started": "2022-03-26T20:40:34.132075Z"
    },
    "papermill": {
     "duration": 0.054639,
     "end_time": "2022-03-26T20:45:40.136965",
     "exception": false,
     "start_time": "2022-03-26T20:45:40.082326",
     "status": "completed"
    },
    "tags": []
   },
   "outputs": [],
   "source": [
    "# test.groupby(['buyer_id', 'pav_order_id'])['item_id'].count()"
   ]
  },
  {
   "cell_type": "code",
   "execution_count": null,
   "id": "4e058097",
   "metadata": {
    "papermill": {
     "duration": 0.046313,
     "end_time": "2022-03-26T20:45:40.230007",
     "exception": false,
     "start_time": "2022-03-26T20:45:40.183694",
     "status": "completed"
    },
    "tags": []
   },
   "outputs": [],
   "source": []
  },
  {
   "cell_type": "markdown",
   "id": "458684d9",
   "metadata": {
    "papermill": {
     "duration": 0.046205,
     "end_time": "2022-03-26T20:45:40.322446",
     "exception": false,
     "start_time": "2022-03-26T20:45:40.276241",
     "status": "completed"
    },
    "tags": []
   },
   "source": [
    "## Загрузим данные"
   ]
  },
  {
   "cell_type": "markdown",
   "id": "826e0126",
   "metadata": {
    "papermill": {
     "duration": 0.045818,
     "end_time": "2022-03-26T20:45:40.414573",
     "exception": false,
     "start_time": "2022-03-26T20:45:40.368755",
     "status": "completed"
    },
    "tags": []
   },
   "source": [
    "# 🎛 EDA"
   ]
  },
  {
   "cell_type": "markdown",
   "id": "b4effb7d",
   "metadata": {
    "papermill": {
     "duration": 0.04532,
     "end_time": "2022-03-26T20:45:40.505876",
     "exception": false,
     "start_time": "2022-03-26T20:45:40.460556",
     "status": "completed"
    },
    "tags": []
   },
   "source": [
    "## `interactions`: взаимодействия пользователь - айтем \n",
    "- с датой `last_watch_dt`\n",
    "- длительностью просмотра `total_dur`\n",
    "- % просмотра `watched_pct`"
   ]
  },
  {
   "cell_type": "code",
   "execution_count": 5,
   "id": "39c9fa24",
   "metadata": {
    "execution": {
     "iopub.execute_input": "2022-03-26T20:45:40.605897Z",
     "iopub.status.busy": "2022-03-26T20:45:40.605215Z",
     "iopub.status.idle": "2022-03-26T20:51:21.329822Z",
     "shell.execute_reply": "2022-03-26T20:51:21.329211Z"
    },
    "papermill": {
     "duration": 340.778243,
     "end_time": "2022-03-26T20:51:21.329980",
     "exception": false,
     "start_time": "2022-03-26T20:45:40.551737",
     "status": "completed"
    },
    "tags": []
   },
   "outputs": [],
   "source": [
    "def get_interactions():\n",
    "\n",
    "    interactions = pd.read_csv('../input/hack-the-cart/hist_data.csv')\n",
    "    interactions.rename(columns={'buyer_id': 'user_id',\n",
    "                                 'count' : 'product_quantity', 'created' : 'completed_at'} , inplace=True)\n",
    "    nes_cols = ['user_id', 'item_id', 'completed_at','product_quantity']\n",
    "    interactions = interactions[nes_cols].groupby(['user_id', 'item_id'], as_index=False).agg({'completed_at' : 'max', \n",
    "                                                                                   'product_quantity': 'sum'})\n",
    "    interactions['user_id'] = interactions.user_id.astype(int)\n",
    "    interactions['item_id'] = interactions.item_id.astype(int)\n",
    "    \n",
    "    \n",
    "    interactions.to_csv('interactions.csv')\n",
    "    return interactions\n",
    "    \n",
    "interactions = get_interactions()"
   ]
  },
  {
   "cell_type": "code",
   "execution_count": 6,
   "id": "233b581d",
   "metadata": {
    "execution": {
     "iopub.execute_input": "2022-03-26T20:51:21.439416Z",
     "iopub.status.busy": "2022-03-26T20:51:21.438480Z",
     "iopub.status.idle": "2022-03-26T20:51:21.442948Z",
     "shell.execute_reply": "2022-03-26T20:51:21.442374Z"
    },
    "papermill": {
     "duration": 0.065431,
     "end_time": "2022-03-26T20:51:21.443119",
     "exception": false,
     "start_time": "2022-03-26T20:51:21.377688",
     "status": "completed"
    },
    "tags": []
   },
   "outputs": [
    {
     "data": {
      "text/html": [
       "<div>\n",
       "<style scoped>\n",
       "    .dataframe tbody tr th:only-of-type {\n",
       "        vertical-align: middle;\n",
       "    }\n",
       "\n",
       "    .dataframe tbody tr th {\n",
       "        vertical-align: top;\n",
       "    }\n",
       "\n",
       "    .dataframe thead th {\n",
       "        text-align: right;\n",
       "    }\n",
       "</style>\n",
       "<table border=\"1\" class=\"dataframe\">\n",
       "  <thead>\n",
       "    <tr style=\"text-align: right;\">\n",
       "      <th></th>\n",
       "      <th>user_id</th>\n",
       "      <th>item_id</th>\n",
       "      <th>completed_at</th>\n",
       "      <th>product_quantity</th>\n",
       "    </tr>\n",
       "  </thead>\n",
       "  <tbody>\n",
       "    <tr>\n",
       "      <th>0</th>\n",
       "      <td>94578442</td>\n",
       "      <td>202795926</td>\n",
       "      <td>2021-08-08 09:58:03</td>\n",
       "      <td>1.0</td>\n",
       "    </tr>\n",
       "    <tr>\n",
       "      <th>1</th>\n",
       "      <td>94578442</td>\n",
       "      <td>202801709</td>\n",
       "      <td>2021-08-08 09:58:03</td>\n",
       "      <td>3.0</td>\n",
       "    </tr>\n",
       "    <tr>\n",
       "      <th>2</th>\n",
       "      <td>94578442</td>\n",
       "      <td>202806979</td>\n",
       "      <td>2021-07-15 17:37:29</td>\n",
       "      <td>2.0</td>\n",
       "    </tr>\n",
       "    <tr>\n",
       "      <th>3</th>\n",
       "      <td>94578442</td>\n",
       "      <td>202806998</td>\n",
       "      <td>2021-07-15 17:37:29</td>\n",
       "      <td>4.0</td>\n",
       "    </tr>\n",
       "    <tr>\n",
       "      <th>4</th>\n",
       "      <td>94578442</td>\n",
       "      <td>202807303</td>\n",
       "      <td>2021-07-02 17:20:51</td>\n",
       "      <td>1.0</td>\n",
       "    </tr>\n",
       "    <tr>\n",
       "      <th>...</th>\n",
       "      <td>...</td>\n",
       "      <td>...</td>\n",
       "      <td>...</td>\n",
       "      <td>...</td>\n",
       "    </tr>\n",
       "    <tr>\n",
       "      <th>3644161</th>\n",
       "      <td>96400990</td>\n",
       "      <td>203445463</td>\n",
       "      <td>2021-09-07 10:00:40</td>\n",
       "      <td>1.0</td>\n",
       "    </tr>\n",
       "    <tr>\n",
       "      <th>3644162</th>\n",
       "      <td>96400990</td>\n",
       "      <td>203457302</td>\n",
       "      <td>2021-09-07 10:00:40</td>\n",
       "      <td>1.0</td>\n",
       "    </tr>\n",
       "    <tr>\n",
       "      <th>3644163</th>\n",
       "      <td>96400990</td>\n",
       "      <td>203581478</td>\n",
       "      <td>2021-09-07 10:00:40</td>\n",
       "      <td>1.0</td>\n",
       "    </tr>\n",
       "    <tr>\n",
       "      <th>3644164</th>\n",
       "      <td>96400990</td>\n",
       "      <td>205797303</td>\n",
       "      <td>2021-09-07 10:00:40</td>\n",
       "      <td>1.0</td>\n",
       "    </tr>\n",
       "    <tr>\n",
       "      <th>3644165</th>\n",
       "      <td>96400990</td>\n",
       "      <td>211101237</td>\n",
       "      <td>2021-09-07 10:00:40</td>\n",
       "      <td>1.0</td>\n",
       "    </tr>\n",
       "  </tbody>\n",
       "</table>\n",
       "<p>3644166 rows × 4 columns</p>\n",
       "</div>"
      ],
      "text/plain": [
       "          user_id    item_id         completed_at  product_quantity\n",
       "0        94578442  202795926  2021-08-08 09:58:03               1.0\n",
       "1        94578442  202801709  2021-08-08 09:58:03               3.0\n",
       "2        94578442  202806979  2021-07-15 17:37:29               2.0\n",
       "3        94578442  202806998  2021-07-15 17:37:29               4.0\n",
       "4        94578442  202807303  2021-07-02 17:20:51               1.0\n",
       "...           ...        ...                  ...               ...\n",
       "3644161  96400990  203445463  2021-09-07 10:00:40               1.0\n",
       "3644162  96400990  203457302  2021-09-07 10:00:40               1.0\n",
       "3644163  96400990  203581478  2021-09-07 10:00:40               1.0\n",
       "3644164  96400990  205797303  2021-09-07 10:00:40               1.0\n",
       "3644165  96400990  211101237  2021-09-07 10:00:40               1.0\n",
       "\n",
       "[3644166 rows x 4 columns]"
      ]
     },
     "execution_count": 6,
     "metadata": {},
     "output_type": "execute_result"
    }
   ],
   "source": [
    "interactions"
   ]
  },
  {
   "cell_type": "code",
   "execution_count": 7,
   "id": "74ceec40",
   "metadata": {
    "ExecuteTime": {
     "end_time": "2021-11-11T14:22:38.024289Z",
     "start_time": "2021-11-11T14:22:20.203348Z"
    },
    "execution": {
     "iopub.execute_input": "2022-03-26T20:51:21.543126Z",
     "iopub.status.busy": "2022-03-26T20:51:21.542454Z",
     "iopub.status.idle": "2022-03-26T20:51:21.605450Z",
     "shell.execute_reply": "2022-03-26T20:51:21.605962Z"
    },
    "papermill": {
     "duration": 0.112836,
     "end_time": "2022-03-26T20:51:21.606145",
     "exception": false,
     "start_time": "2022-03-26T20:51:21.493309",
     "status": "completed"
    },
    "tags": []
   },
   "outputs": [
    {
     "name": "stdout",
     "output_type": "stream",
     "text": [
      "Уникальных юзеров в interactions: 63_925\n",
      "Уникальных айтемов в interactions: 52_472\n"
     ]
    }
   ],
   "source": [
    "# # обработка даты\n",
    "# interactions['last_watch_dt'] = pd.to_datetime(interactions['completed_at']).map(lambda x: x.date())\n",
    "\n",
    "print(f\"Уникальных юзеров в interactions: {interactions['user_id'].nunique():_}\")\n",
    "print(f\"Уникальных айтемов в interactions: {interactions['item_id'].nunique():_}\")"
   ]
  },
  {
   "cell_type": "code",
   "execution_count": 8,
   "id": "2fc8ea1b",
   "metadata": {
    "ExecuteTime": {
     "end_time": "2021-11-11T14:22:38.531227Z",
     "start_time": "2021-11-11T14:22:38.025602Z"
    },
    "execution": {
     "iopub.execute_input": "2022-03-26T20:51:22.103331Z",
     "iopub.status.busy": "2022-03-26T20:51:21.704816Z",
     "iopub.status.idle": "2022-03-26T20:51:22.875288Z",
     "shell.execute_reply": "2022-03-26T20:51:22.874677Z"
    },
    "papermill": {
     "duration": 1.221909,
     "end_time": "2022-03-26T20:51:22.875491",
     "exception": false,
     "start_time": "2022-03-26T20:51:21.653582",
     "status": "completed"
    },
    "tags": []
   },
   "outputs": [
    {
     "name": "stdout",
     "output_type": "stream",
     "text": [
      "min дата в interactions: 2021-07-01 00:03:44\n",
      "max дата в interactions: 2021-09-07 18:48:29\n"
     ]
    }
   ],
   "source": [
    "max_date = interactions['completed_at'].max()\n",
    "min_date = interactions['completed_at'].min()\n",
    "\n",
    "print(f\"min дата в interactions: {min_date}\")\n",
    "print(f\"max дата в interactions: {max_date}\")"
   ]
  },
  {
   "cell_type": "markdown",
   "id": "5bc74bcb",
   "metadata": {
    "papermill": {
     "duration": 0.048559,
     "end_time": "2022-03-26T20:51:22.974008",
     "exception": false,
     "start_time": "2022-03-26T20:51:22.925449",
     "status": "completed"
    },
    "tags": []
   },
   "source": [
    "## `users`: данные о пользователях\n",
    "\n",
    "- `age` бин по возрасту \n",
    "- `income` бин по доходу \n",
    "- `sex` пол \n",
    "- `kids_flg` флаг наличия детей\n",
    "\n",
    "Все признаки - результат предсказания соцдем моделей"
   ]
  },
  {
   "cell_type": "code",
   "execution_count": 9,
   "id": "6346ec64",
   "metadata": {
    "execution": {
     "iopub.execute_input": "2022-03-26T20:51:23.189211Z",
     "iopub.status.busy": "2022-03-26T20:51:23.188501Z",
     "iopub.status.idle": "2022-03-26T20:51:23.191911Z",
     "shell.execute_reply": "2022-03-26T20:51:23.192462Z"
    },
    "papermill": {
     "duration": 0.170539,
     "end_time": "2022-03-26T20:51:23.192636",
     "exception": false,
     "start_time": "2022-03-26T20:51:23.022097",
     "status": "completed"
    },
    "tags": []
   },
   "outputs": [
    {
     "data": {
      "text/plain": [
       "84"
      ]
     },
     "execution_count": 9,
     "metadata": {},
     "output_type": "execute_result"
    }
   ],
   "source": [
    "import gc\n",
    "\n",
    "gc.collect()"
   ]
  },
  {
   "cell_type": "markdown",
   "id": "1f3b9e40",
   "metadata": {
    "papermill": {
     "duration": 0.047977,
     "end_time": "2022-03-26T20:51:23.288835",
     "exception": false,
     "start_time": "2022-03-26T20:51:23.240858",
     "status": "completed"
    },
    "tags": []
   },
   "source": [
    "## `items`: данные об айтемах\n",
    "\n",
    "- `content_type` - тип контента\n",
    "- `title` - название на русском\n",
    "- `title_orig` - название оригинальное\n",
    "- `release_year` - год выпуска\n",
    "- `countries` - страны\n",
    "- `for_kids` - флаг контент для детей\n",
    "- `age_rating`- Возрастной рейтинг\n",
    "- `studios` - студии\n",
    "- `directors` - режиссеры\n",
    "- `actors`- актеры\n",
    "- `keywords` - ключевые слова \n",
    "- `description` - описание"
   ]
  },
  {
   "cell_type": "code",
   "execution_count": 10,
   "id": "c5d2e491",
   "metadata": {
    "ExecuteTime": {
     "end_time": "2021-11-11T14:22:38.552362Z",
     "start_time": "2021-11-11T14:22:38.543109Z"
    },
    "execution": {
     "iopub.execute_input": "2022-03-26T20:51:23.389367Z",
     "iopub.status.busy": "2022-03-26T20:51:23.388756Z",
     "iopub.status.idle": "2022-03-26T20:51:23.391822Z",
     "shell.execute_reply": "2022-03-26T20:51:23.391355Z"
    },
    "papermill": {
     "duration": 0.054862,
     "end_time": "2022-03-26T20:51:23.391955",
     "exception": false,
     "start_time": "2022-03-26T20:51:23.337093",
     "status": "completed"
    },
    "tags": []
   },
   "outputs": [],
   "source": [
    "# items = pq.read_table('../input/sbermarket-competition-intel/clusters.parquet', use_threads=False)\n",
    "# items = items.to_pandas()\n",
    "# print(f\"Уникальных айтемов в items {items.shape[0]:_}\")\n",
    "# items.head()"
   ]
  },
  {
   "cell_type": "markdown",
   "id": "0594f543",
   "metadata": {
    "papermill": {
     "duration": 0.048951,
     "end_time": "2022-03-26T20:51:23.489198",
     "exception": false,
     "start_time": "2022-03-26T20:51:23.440247",
     "status": "completed"
    },
    "tags": []
   },
   "source": [
    "# Агрегация и фильтрация кластеров\n",
    "\n",
    "Уберем повторы, будет считать что продукт это фильм, просмотренный раз"
   ]
  },
  {
   "cell_type": "markdown",
   "id": "fafdef8e",
   "metadata": {
    "papermill": {
     "duration": 0.049131,
     "end_time": "2022-03-26T20:51:23.587890",
     "exception": false,
     "start_time": "2022-03-26T20:51:23.538759",
     "status": "completed"
    },
    "tags": []
   },
   "source": [
    "# ✂️ Схема валидации"
   ]
  },
  {
   "cell_type": "markdown",
   "id": "75b5a8ed",
   "metadata": {
    "papermill": {
     "duration": 0.049157,
     "end_time": "2022-03-26T20:51:23.685634",
     "exception": false,
     "start_time": "2022-03-26T20:51:23.636477",
     "status": "completed"
    },
    "tags": []
   },
   "source": [
    "## Глобальный train - test\n",
    "\n",
    "На `test` будем проверять результат обоих моделей:\n",
    "-  отдельно модели 1го уровня: LightFM\n",
    "- отдельно двухуровненой модели: LightFM + Catboost\n",
    "\n",
    "На test оставим 7 дней"
   ]
  },
  {
   "cell_type": "code",
   "execution_count": 11,
   "id": "0f5ac862",
   "metadata": {
    "ExecuteTime": {
     "end_time": "2021-11-11T14:22:39.503402Z",
     "start_time": "2021-11-11T14:22:38.556626Z"
    },
    "execution": {
     "iopub.execute_input": "2022-03-26T20:51:23.809429Z",
     "iopub.status.busy": "2022-03-26T20:51:23.808669Z",
     "iopub.status.idle": "2022-03-26T20:51:23.812522Z",
     "shell.execute_reply": "2022-03-26T20:51:23.811929Z"
    },
    "papermill": {
     "duration": 0.07827,
     "end_time": "2022-03-26T20:51:23.812659",
     "exception": false,
     "start_time": "2022-03-26T20:51:23.734389",
     "status": "completed"
    },
    "tags": []
   },
   "outputs": [
    {
     "name": "stdout",
     "output_type": "stream",
     "text": [
      "Трейн готов\n",
      "train: (3644166, 4)\n"
     ]
    }
   ],
   "source": [
    "train = interactions#[(interactions['completed_at'] < max_date - pd.Timedelta(days=7))]\n",
    "print('Трейн готов')\n",
    "# test = interactions[(interactions['completed_at'] >= max_date - pd.Timedelta(days=7))]\n",
    "\n",
    "# дополнительная фильтрация train для исключения случайных просмотров \n",
    "# train = train[train['total_dur'] >= 300]\n",
    "\n",
    "del interactions\n",
    "print(f\"train: {train.shape}\")\n",
    "# print(f\"test: {test.shape}\")"
   ]
  },
  {
   "cell_type": "code",
   "execution_count": null,
   "id": "37ee3957",
   "metadata": {
    "papermill": {
     "duration": 0.049104,
     "end_time": "2022-03-26T20:51:23.910941",
     "exception": false,
     "start_time": "2022-03-26T20:51:23.861837",
     "status": "completed"
    },
    "tags": []
   },
   "outputs": [],
   "source": []
  },
  {
   "cell_type": "markdown",
   "id": "2c66c1f0",
   "metadata": {
    "papermill": {
     "duration": 0.048904,
     "end_time": "2022-03-26T20:51:24.009011",
     "exception": false,
     "start_time": "2022-03-26T20:51:23.960107",
     "status": "completed"
    },
    "tags": []
   },
   "source": [
    "# 1️⃣ 1 этап: LightFM\n",
    "\n",
    "- обучаем LightFM user2item модель на LighFM train\n",
    "\n",
    "- делаем предикт c кандидатами на LighFM predict\n",
    "\n"
   ]
  },
  {
   "cell_type": "markdown",
   "id": "555ca883",
   "metadata": {
    "papermill": {
     "duration": 0.048717,
     "end_time": "2022-03-26T20:51:24.107150",
     "exception": false,
     "start_time": "2022-03-26T20:51:24.058433",
     "status": "completed"
    },
    "tags": []
   },
   "source": [
    "## Разделим данные для LightFM еще на 2 части\n",
    "\n",
    "### train + pred for candidates \n",
    "\n",
    "Разделим данные на `lfm_train` и `lfm_pred` как 60%-40% по квантилю даты просмотра \n",
    "\n",
    "(Считаем, что гиперпараметры оптимальной lfm модели мы уже подобрали)\n",
    "\n",
    "На `lfm_pred` будем в дальнейшем обучать бустинг - модель 2 этапа"
   ]
  },
  {
   "cell_type": "code",
   "execution_count": 12,
   "id": "8477d618",
   "metadata": {
    "ExecuteTime": {
     "end_time": "2021-11-11T14:22:43.232308Z",
     "start_time": "2021-11-11T14:22:39.505816Z"
    },
    "execution": {
     "iopub.execute_input": "2022-03-26T20:51:24.211006Z",
     "iopub.status.busy": "2022-03-26T20:51:24.210358Z",
     "iopub.status.idle": "2022-03-26T20:51:31.041690Z",
     "shell.execute_reply": "2022-03-26T20:51:31.041186Z"
    },
    "papermill": {
     "duration": 6.885481,
     "end_time": "2022-03-26T20:51:31.041829",
     "exception": false,
     "start_time": "2022-03-26T20:51:24.156348",
     "status": "completed"
    },
    "tags": []
   },
   "outputs": [
    {
     "data": {
      "text/plain": [
       "'2021-08-08 12:50:58'"
      ]
     },
     "execution_count": 12,
     "metadata": {},
     "output_type": "execute_result"
    }
   ],
   "source": [
    "lfm_date_threshold = train['completed_at'].quantile(q=0.6, interpolation='nearest')\n",
    "lfm_date_threshold"
   ]
  },
  {
   "cell_type": "code",
   "execution_count": null,
   "id": "55bd76ea",
   "metadata": {
    "papermill": {
     "duration": 0.050599,
     "end_time": "2022-03-26T20:51:31.142110",
     "exception": false,
     "start_time": "2022-03-26T20:51:31.091511",
     "status": "completed"
    },
    "tags": []
   },
   "outputs": [],
   "source": []
  },
  {
   "cell_type": "code",
   "execution_count": 13,
   "id": "3f1dfa43",
   "metadata": {
    "ExecuteTime": {
     "end_time": "2021-11-11T14:22:43.770156Z",
     "start_time": "2021-11-11T14:22:43.233425Z"
    },
    "execution": {
     "iopub.execute_input": "2022-03-26T20:51:31.265926Z",
     "iopub.status.busy": "2022-03-26T20:51:31.264851Z",
     "iopub.status.idle": "2022-03-26T20:51:31.889352Z",
     "shell.execute_reply": "2022-03-26T20:51:31.889985Z"
    },
    "papermill": {
     "duration": 0.693198,
     "end_time": "2022-03-26T20:51:31.890182",
     "exception": false,
     "start_time": "2022-03-26T20:51:31.196984",
     "status": "completed"
    },
    "tags": []
   },
   "outputs": [
    {
     "name": "stdout",
     "output_type": "stream",
     "text": [
      "lfm_train: (3644166, 4)\n",
      "lfm_pred: (1457679, 4)\n"
     ]
    }
   ],
   "source": [
    "lfm_train = train#[(train['completed_at'] < lfm_date_threshold)]\n",
    "lfm_pred = train[(train['completed_at'] >= lfm_date_threshold)]\n",
    "\n",
    "print(f\"lfm_train: {lfm_train.shape}\")\n",
    "print(f\"lfm_pred: {lfm_pred.shape}\")"
   ]
  },
  {
   "cell_type": "markdown",
   "id": "a827dc59",
   "metadata": {
    "papermill": {
     "duration": 0.050019,
     "end_time": "2022-03-26T20:51:31.992118",
     "exception": false,
     "start_time": "2022-03-26T20:51:31.942099",
     "status": "completed"
    },
    "tags": []
   },
   "source": [
    "Будем предсказывать кандидатов только на теплых пользователях - у которых есть просмотры в обучающей выборке"
   ]
  },
  {
   "cell_type": "code",
   "execution_count": 14,
   "id": "56818687",
   "metadata": {
    "ExecuteTime": {
     "end_time": "2021-11-11T14:22:43.911202Z",
     "start_time": "2021-11-11T14:22:43.771348Z"
    },
    "execution": {
     "iopub.execute_input": "2022-03-26T20:51:32.096801Z",
     "iopub.status.busy": "2022-03-26T20:51:32.095832Z",
     "iopub.status.idle": "2022-03-26T20:51:32.192305Z",
     "shell.execute_reply": "2022-03-26T20:51:32.191615Z"
    },
    "papermill": {
     "duration": 0.150017,
     "end_time": "2022-03-26T20:51:32.192456",
     "exception": false,
     "start_time": "2022-03-26T20:51:32.042439",
     "status": "completed"
    },
    "tags": []
   },
   "outputs": [],
   "source": [
    "lfm_pred = lfm_pred[lfm_pred['user_id'].isin(lfm_train['user_id'].unique())]"
   ]
  },
  {
   "cell_type": "code",
   "execution_count": 15,
   "id": "58d7ca2c",
   "metadata": {
    "ExecuteTime": {
     "end_time": "2021-11-11T14:22:43.919173Z",
     "start_time": "2021-11-11T14:22:43.912466Z"
    },
    "execution": {
     "iopub.execute_input": "2022-03-26T20:51:32.304353Z",
     "iopub.status.busy": "2022-03-26T20:51:32.303501Z",
     "iopub.status.idle": "2022-03-26T20:51:32.307385Z",
     "shell.execute_reply": "2022-03-26T20:51:32.306842Z"
    },
    "papermill": {
     "duration": 0.06434,
     "end_time": "2022-03-26T20:51:32.307528",
     "exception": false,
     "start_time": "2022-03-26T20:51:32.243188",
     "status": "completed"
    },
    "scrolled": true,
    "tags": []
   },
   "outputs": [
    {
     "data": {
      "text/html": [
       "<div>\n",
       "<style scoped>\n",
       "    .dataframe tbody tr th:only-of-type {\n",
       "        vertical-align: middle;\n",
       "    }\n",
       "\n",
       "    .dataframe tbody tr th {\n",
       "        vertical-align: top;\n",
       "    }\n",
       "\n",
       "    .dataframe thead th {\n",
       "        text-align: right;\n",
       "    }\n",
       "</style>\n",
       "<table border=\"1\" class=\"dataframe\">\n",
       "  <thead>\n",
       "    <tr style=\"text-align: right;\">\n",
       "      <th></th>\n",
       "      <th>user_id</th>\n",
       "      <th>item_id</th>\n",
       "      <th>completed_at</th>\n",
       "      <th>product_quantity</th>\n",
       "    </tr>\n",
       "  </thead>\n",
       "  <tbody>\n",
       "    <tr>\n",
       "      <th>0</th>\n",
       "      <td>94578442</td>\n",
       "      <td>202795926</td>\n",
       "      <td>2021-08-08 09:58:03</td>\n",
       "      <td>1.0</td>\n",
       "    </tr>\n",
       "    <tr>\n",
       "      <th>1</th>\n",
       "      <td>94578442</td>\n",
       "      <td>202801709</td>\n",
       "      <td>2021-08-08 09:58:03</td>\n",
       "      <td>3.0</td>\n",
       "    </tr>\n",
       "    <tr>\n",
       "      <th>2</th>\n",
       "      <td>94578442</td>\n",
       "      <td>202806979</td>\n",
       "      <td>2021-07-15 17:37:29</td>\n",
       "      <td>2.0</td>\n",
       "    </tr>\n",
       "  </tbody>\n",
       "</table>\n",
       "</div>"
      ],
      "text/plain": [
       "    user_id    item_id         completed_at  product_quantity\n",
       "0  94578442  202795926  2021-08-08 09:58:03               1.0\n",
       "1  94578442  202801709  2021-08-08 09:58:03               3.0\n",
       "2  94578442  202806979  2021-07-15 17:37:29               2.0"
      ]
     },
     "execution_count": 15,
     "metadata": {},
     "output_type": "execute_result"
    }
   ],
   "source": [
    "lfm_train.head(3)"
   ]
  },
  {
   "cell_type": "markdown",
   "id": "2f5f3d11",
   "metadata": {
    "papermill": {
     "duration": 0.050617,
     "end_time": "2022-03-26T20:51:32.409204",
     "exception": false,
     "start_time": "2022-03-26T20:51:32.358587",
     "status": "completed"
    },
    "tags": []
   },
   "source": [
    "## Обучение LightFM"
   ]
  },
  {
   "cell_type": "code",
   "execution_count": 16,
   "id": "d810392f",
   "metadata": {
    "ExecuteTime": {
     "end_time": "2021-11-11T14:22:43.924646Z",
     "start_time": "2021-11-11T14:22:43.920262Z"
    },
    "execution": {
     "iopub.execute_input": "2022-03-26T20:51:32.515317Z",
     "iopub.status.busy": "2022-03-26T20:51:32.514631Z",
     "iopub.status.idle": "2022-03-26T20:51:32.528679Z",
     "shell.execute_reply": "2022-03-26T20:51:32.528113Z"
    },
    "papermill": {
     "duration": 0.068688,
     "end_time": "2022-03-26T20:51:32.528817",
     "exception": false,
     "start_time": "2022-03-26T20:51:32.460129",
     "status": "completed"
    },
    "tags": []
   },
   "outputs": [],
   "source": [
    "from lightfm.data import Dataset\n",
    "from lightfm import LightFM"
   ]
  },
  {
   "cell_type": "code",
   "execution_count": 17,
   "id": "bdc51e87",
   "metadata": {
    "ExecuteTime": {
     "end_time": "2021-11-11T14:22:44.350483Z",
     "start_time": "2021-11-11T14:22:43.925636Z"
    },
    "execution": {
     "iopub.execute_input": "2022-03-26T20:51:32.639806Z",
     "iopub.status.busy": "2022-03-26T20:51:32.639115Z",
     "iopub.status.idle": "2022-03-26T20:51:33.261810Z",
     "shell.execute_reply": "2022-03-26T20:51:33.261276Z"
    },
    "papermill": {
     "duration": 0.681707,
     "end_time": "2022-03-26T20:51:33.261961",
     "exception": false,
     "start_time": "2022-03-26T20:51:32.580254",
     "status": "completed"
    },
    "tags": []
   },
   "outputs": [
    {
     "name": "stdout",
     "output_type": "stream",
     "text": [
      "users_mapping amount: 63925\n",
      "items_mapping amount: 52472\n"
     ]
    }
   ],
   "source": [
    "dataset = Dataset()\n",
    "dataset.fit(lfm_train['user_id'].unique().astype(int), lfm_train['item_id'].unique().astype(float))\n",
    "\n",
    "\n",
    "# user / item mappings\n",
    "lightfm_mapping = dataset.mapping()\n",
    "lightfm_mapping = {\n",
    "    'users_mapping': lightfm_mapping[0],\n",
    "    'items_mapping': lightfm_mapping[2],\n",
    "}\n",
    "\n",
    "# инвертированные словарь\n",
    "lightfm_mapping['users_inv_mapping'] = {v: k for k, v in lightfm_mapping['users_mapping'].items()}\n",
    "lightfm_mapping['items_inv_mapping'] = {v: k for k, v in lightfm_mapping['items_mapping'].items()}\n",
    "\n",
    "print(f\"users_mapping amount: {len(lightfm_mapping['users_mapping'])}\")\n",
    "print(f\"items_mapping amount: {len(lightfm_mapping['items_mapping'])}\")\n",
    "\n",
    "import pickle\n",
    "\n",
    "a_file = open(\"data.pkl\", \"wb\")\n",
    "pickle.dump(lightfm_mapping, a_file)\n",
    "\n",
    "# a_file = open(\"data.pkl\", \"rb\")\n",
    "# lightfm_mapping = pickle.load(a_file)\n",
    "# print(lightfm_mapping)"
   ]
  },
  {
   "cell_type": "code",
   "execution_count": 18,
   "id": "dd96ed1c",
   "metadata": {
    "ExecuteTime": {
     "end_time": "2021-11-11T14:22:48.839123Z",
     "start_time": "2021-11-11T14:22:44.351776Z"
    },
    "execution": {
     "iopub.execute_input": "2022-03-26T20:51:33.392734Z",
     "iopub.status.busy": "2022-03-26T20:51:33.392037Z",
     "iopub.status.idle": "2022-03-26T20:51:47.304344Z",
     "shell.execute_reply": "2022-03-26T20:51:47.304829Z"
    },
    "papermill": {
     "duration": 13.990826,
     "end_time": "2022-03-26T20:51:47.305030",
     "exception": false,
     "start_time": "2022-03-26T20:51:33.314204",
     "status": "completed"
    },
    "tags": []
   },
   "outputs": [],
   "source": [
    "# matrix for training\n",
    "interactions_matrix, weights_matrix = dataset.build_interactions(\n",
    "    zip(*lfm_train[['user_id', 'item_id', 'product_quantity']].values.astype(int).T)\n",
    ")\n",
    "\n",
    "weights_matrix_csr = weights_matrix.tocsr()"
   ]
  },
  {
   "cell_type": "code",
   "execution_count": 19,
   "id": "d51620e0",
   "metadata": {
    "ExecuteTime": {
     "end_time": "2021-11-11T14:22:48.889943Z",
     "start_time": "2021-11-11T14:22:48.88751Z"
    },
    "execution": {
     "iopub.execute_input": "2022-03-26T20:51:47.413798Z",
     "iopub.status.busy": "2022-03-26T20:51:47.413168Z",
     "iopub.status.idle": "2022-03-26T20:51:47.416713Z",
     "shell.execute_reply": "2022-03-26T20:51:47.417214Z"
    },
    "papermill": {
     "duration": 0.059923,
     "end_time": "2022-03-26T20:51:47.417373",
     "exception": false,
     "start_time": "2022-03-26T20:51:47.357450",
     "status": "completed"
    },
    "tags": []
   },
   "outputs": [],
   "source": [
    "lfm_model = LightFM(\n",
    "    no_components=64, \n",
    "    learning_rate=0.1, \n",
    "    loss='warp', \n",
    "    max_sampled=5, \n",
    "    random_state=42\n",
    ")"
   ]
  },
  {
   "cell_type": "code",
   "execution_count": 20,
   "id": "693b53bb",
   "metadata": {
    "ExecuteTime": {
     "end_time": "2021-11-11T14:23:42.249336Z",
     "start_time": "2021-11-11T14:22:48.890862Z"
    },
    "execution": {
     "iopub.execute_input": "2022-03-26T20:51:47.525197Z",
     "iopub.status.busy": "2022-03-26T20:51:47.524571Z",
     "iopub.status.idle": "2022-03-26T20:54:38.252238Z",
     "shell.execute_reply": "2022-03-26T20:54:38.250237Z"
    },
    "papermill": {
     "duration": 170.782658,
     "end_time": "2022-03-26T20:54:38.252657",
     "exception": false,
     "start_time": "2022-03-26T20:51:47.469999",
     "status": "completed"
    },
    "tags": []
   },
   "outputs": [
    {
     "data": {
      "application/vnd.jupyter.widget-view+json": {
       "model_id": "52e1bc0a0b264747aa52e45a1d056c66",
       "version_major": 2,
       "version_minor": 0
      },
      "text/plain": [
       "  0%|          | 0/25 [00:00<?, ?it/s]"
      ]
     },
     "metadata": {},
     "output_type": "display_data"
    }
   ],
   "source": [
    "# 💪🏼 train model\n",
    "\n",
    "num_epochs = 25 # лучше 10 - 20\n",
    "\n",
    "for _ in tqdm(range(num_epochs)):\n",
    "    lfm_model.fit_partial(\n",
    "        weights_matrix_csr\n",
    "    )"
   ]
  },
  {
   "cell_type": "code",
   "execution_count": 21,
   "id": "989f7a47",
   "metadata": {
    "ExecuteTime": {
     "end_time": "2021-11-11T14:23:43.104604Z",
     "start_time": "2021-11-11T14:23:42.250529Z"
    },
    "execution": {
     "iopub.execute_input": "2022-03-26T20:54:38.374940Z",
     "iopub.status.busy": "2022-03-26T20:54:38.374293Z",
     "iopub.status.idle": "2022-03-26T20:54:38.564019Z",
     "shell.execute_reply": "2022-03-26T20:54:38.564577Z"
    },
    "papermill": {
     "duration": 0.247155,
     "end_time": "2022-03-26T20:54:38.564754",
     "exception": false,
     "start_time": "2022-03-26T20:54:38.317599",
     "status": "completed"
    },
    "tags": []
   },
   "outputs": [],
   "source": [
    "# save model  \n",
    "with open(f\"lfm_model.dill\", 'wb') as f:\n",
    "    dill.dump(lfm_model, f)"
   ]
  },
  {
   "cell_type": "markdown",
   "id": "2819eafc",
   "metadata": {
    "papermill": {
     "duration": 0.053113,
     "end_time": "2022-03-26T20:54:38.671815",
     "exception": false,
     "start_time": "2022-03-26T20:54:38.618702",
     "status": "completed"
    },
    "tags": []
   },
   "source": [
    "## Генерируем предсказания LightFM как кандидатов для второго этапа"
   ]
  },
  {
   "cell_type": "code",
   "execution_count": 22,
   "id": "03811789",
   "metadata": {
    "ExecuteTime": {
     "end_time": "2021-11-11T14:23:43.126717Z",
     "start_time": "2021-11-11T14:23:43.10588Z"
    },
    "execution": {
     "iopub.execute_input": "2022-03-26T20:54:38.782234Z",
     "iopub.status.busy": "2022-03-26T20:54:38.781514Z",
     "iopub.status.idle": "2022-03-26T20:54:38.807258Z",
     "shell.execute_reply": "2022-03-26T20:54:38.807733Z"
    },
    "papermill": {
     "duration": 0.082478,
     "end_time": "2022-03-26T20:54:38.807921",
     "exception": false,
     "start_time": "2022-03-26T20:54:38.725443",
     "status": "completed"
    },
    "tags": []
   },
   "outputs": [
    {
     "data": {
      "text/html": [
       "<div>\n",
       "<style scoped>\n",
       "    .dataframe tbody tr th:only-of-type {\n",
       "        vertical-align: middle;\n",
       "    }\n",
       "\n",
       "    .dataframe tbody tr th {\n",
       "        vertical-align: top;\n",
       "    }\n",
       "\n",
       "    .dataframe thead th {\n",
       "        text-align: right;\n",
       "    }\n",
       "</style>\n",
       "<table border=\"1\" class=\"dataframe\">\n",
       "  <thead>\n",
       "    <tr style=\"text-align: right;\">\n",
       "      <th></th>\n",
       "      <th>user_id</th>\n",
       "    </tr>\n",
       "  </thead>\n",
       "  <tbody>\n",
       "    <tr>\n",
       "      <th>0</th>\n",
       "      <td>94578533</td>\n",
       "    </tr>\n",
       "    <tr>\n",
       "      <th>1</th>\n",
       "      <td>94578595</td>\n",
       "    </tr>\n",
       "    <tr>\n",
       "      <th>2</th>\n",
       "      <td>94578658</td>\n",
       "    </tr>\n",
       "  </tbody>\n",
       "</table>\n",
       "</div>"
      ],
      "text/plain": [
       "    user_id\n",
       "0  94578533\n",
       "1  94578595\n",
       "2  94578658"
      ]
     },
     "execution_count": 22,
     "metadata": {},
     "output_type": "execute_result"
    }
   ],
   "source": [
    "# пустой датафрейм для предсказания\n",
    "candidates = pd.DataFrame({\n",
    "    'user_id': lfm_pred['user_id'].unique()\n",
    "}, dtype=int)\n",
    "\n",
    "candidates.head(3)"
   ]
  },
  {
   "cell_type": "markdown",
   "id": "66dc0ab0",
   "metadata": {
    "ExecuteTime": {
     "end_time": "2021-10-21T20:20:45.738018Z",
     "start_time": "2021-10-21T20:20:45.735141Z"
    },
    "papermill": {
     "duration": 0.056269,
     "end_time": "2022-03-26T20:54:38.920012",
     "exception": false,
     "start_time": "2022-03-26T20:54:38.863743",
     "status": "completed"
    },
    "tags": []
   },
   "source": [
    "### В `tools` вынесены функции из лекций первого курса Your First Recsys  <a href=\"https://www.kaggle.com/sharthz23/implicit-lightfm\">Код лекций</a>\n",
    "\n",
    "`generate_lightfm_recs_mapper` - функция для генерации LightFM предсказаний по всем пользователям с учетом удаления просмотренных айтемов\n",
    "\n",
    "`compute_metrics` - функция для расчета классических метрик для рекомендаций (будем использовать в конце)"
   ]
  },
  {
   "cell_type": "code",
   "execution_count": 23,
   "id": "67e65ec1",
   "metadata": {
    "execution": {
     "iopub.execute_input": "2022-03-26T20:54:39.038358Z",
     "iopub.status.busy": "2022-03-26T20:54:39.037635Z",
     "iopub.status.idle": "2022-03-26T20:54:39.040590Z",
     "shell.execute_reply": "2022-03-26T20:54:39.041048Z"
    },
    "papermill": {
     "duration": 0.066449,
     "end_time": "2022-03-26T20:54:39.041242",
     "exception": false,
     "start_time": "2022-03-26T20:54:38.974793",
     "status": "completed"
    },
    "tags": []
   },
   "outputs": [],
   "source": [
    "def generate_lightfm_recs_mapper(model, item_ids, known_items, user_features, item_features, N, user_mapping, item_inv_mapping, num_threads=4):\n",
    "    def _recs_mapper(user = None, known_items = known_items):\n",
    "        user_id = user_mapping[user]\n",
    "        recs = model.predict(user_id, item_ids, user_features=user_features,\n",
    "                             item_features=item_features, num_threads=num_threads)\n",
    "        \n",
    "        additional_N = len(known_items[user_id]) if user_id in known_items else 0\n",
    "        total_N = N + additional_N\n",
    "        top_cols = np.argpartition(recs, -np.arange(total_N))[-total_N:][::-1]\n",
    "        \n",
    "        final_recs = [item_inv_mapping[item] for item in top_cols]\n",
    "        if additional_N > 0:\n",
    "            filter_items = known_items[user_id]\n",
    "            final_recs = [item for item in final_recs if item not in filter_items]\n",
    "        return final_recs[:N]\n",
    "    return _recs_mapper"
   ]
  },
  {
   "cell_type": "code",
   "execution_count": 24,
   "id": "09a97a4c",
   "metadata": {
    "ExecuteTime": {
     "end_time": "2021-11-11T14:23:43.131701Z",
     "start_time": "2021-11-11T14:23:43.127777Z"
    },
    "execution": {
     "iopub.execute_input": "2022-03-26T20:54:39.159283Z",
     "iopub.status.busy": "2022-03-26T20:54:39.158497Z",
     "iopub.status.idle": "2022-03-26T20:54:39.160690Z",
     "shell.execute_reply": "2022-03-26T20:54:39.160175Z"
    },
    "papermill": {
     "duration": 0.06516,
     "end_time": "2022-03-26T20:54:39.160825",
     "exception": false,
     "start_time": "2022-03-26T20:54:39.095665",
     "status": "completed"
    },
    "tags": []
   },
   "outputs": [],
   "source": [
    "# кол-во кандидатов \n",
    "top_N = 200 # тут сколько хочешь \n",
    "\n",
    "# вспомогательные данные \n",
    "all_cols = list(lightfm_mapping['items_mapping'].values())\n",
    "\n",
    "mapper = generate_lightfm_recs_mapper(\n",
    "    lfm_model, \n",
    "    item_ids=all_cols, \n",
    "    known_items=dict(),\n",
    "    N=top_N,\n",
    "    user_features=None, \n",
    "    item_features=None, \n",
    "    user_mapping=lightfm_mapping['users_mapping'],\n",
    "    item_inv_mapping=lightfm_mapping['items_inv_mapping'],\n",
    "    num_threads=20\n",
    ")"
   ]
  },
  {
   "cell_type": "code",
   "execution_count": 25,
   "id": "62d127cc",
   "metadata": {
    "execution": {
     "iopub.execute_input": "2022-03-26T20:54:39.276079Z",
     "iopub.status.busy": "2022-03-26T20:54:39.275197Z",
     "iopub.status.idle": "2022-03-26T20:54:39.277806Z",
     "shell.execute_reply": "2022-03-26T20:54:39.277320Z"
    },
    "papermill": {
     "duration": 0.062533,
     "end_time": "2022-03-26T20:54:39.277943",
     "exception": false,
     "start_time": "2022-03-26T20:54:39.215410",
     "status": "completed"
    },
    "tags": []
   },
   "outputs": [],
   "source": [
    "from tqdm import tqdm\n",
    "tqdm.pandas()  # <- added this line"
   ]
  },
  {
   "cell_type": "code",
   "execution_count": 26,
   "id": "a6677d17",
   "metadata": {
    "execution": {
     "iopub.execute_input": "2022-03-26T20:54:39.391409Z",
     "iopub.status.busy": "2022-03-26T20:54:39.390559Z",
     "iopub.status.idle": "2022-03-26T20:54:39.393262Z",
     "shell.execute_reply": "2022-03-26T20:54:39.392727Z"
    },
    "papermill": {
     "duration": 0.060783,
     "end_time": "2022-03-26T20:54:39.393405",
     "exception": false,
     "start_time": "2022-03-26T20:54:39.332622",
     "status": "completed"
    },
    "tags": []
   },
   "outputs": [],
   "source": [
    "# candidates['user_id'][0]\n",
    "# lightfm_mapping['users_mapping']"
   ]
  },
  {
   "cell_type": "code",
   "execution_count": 27,
   "id": "7eec828a",
   "metadata": {
    "execution": {
     "iopub.execute_input": "2022-03-26T20:54:39.508528Z",
     "iopub.status.busy": "2022-03-26T20:54:39.507805Z",
     "iopub.status.idle": "2022-03-26T21:00:23.337720Z",
     "shell.execute_reply": "2022-03-26T21:00:23.337198Z"
    },
    "papermill": {
     "duration": 343.88777,
     "end_time": "2022-03-26T21:00:23.337880",
     "exception": false,
     "start_time": "2022-03-26T20:54:39.450110",
     "status": "completed"
    },
    "tags": []
   },
   "outputs": [
    {
     "name": "stderr",
     "output_type": "stream",
     "text": [
      "100%|██████████| 39359/39359 [05:41<00:00, 115.09it/s]\n"
     ]
    },
    {
     "data": {
      "text/html": [
       "<div>\n",
       "<style scoped>\n",
       "    .dataframe tbody tr th:only-of-type {\n",
       "        vertical-align: middle;\n",
       "    }\n",
       "\n",
       "    .dataframe tbody tr th {\n",
       "        vertical-align: top;\n",
       "    }\n",
       "\n",
       "    .dataframe thead th {\n",
       "        text-align: right;\n",
       "    }\n",
       "</style>\n",
       "<table border=\"1\" class=\"dataframe\">\n",
       "  <thead>\n",
       "    <tr style=\"text-align: right;\">\n",
       "      <th></th>\n",
       "      <th>user_id</th>\n",
       "      <th>item_id</th>\n",
       "      <th>rank</th>\n",
       "    </tr>\n",
       "  </thead>\n",
       "  <tbody>\n",
       "    <tr>\n",
       "      <th>0</th>\n",
       "      <td>94578533</td>\n",
       "      <td>202914232.0</td>\n",
       "      <td>1</td>\n",
       "    </tr>\n",
       "    <tr>\n",
       "      <th>0</th>\n",
       "      <td>94578533</td>\n",
       "      <td>202807115.0</td>\n",
       "      <td>2</td>\n",
       "    </tr>\n",
       "    <tr>\n",
       "      <th>0</th>\n",
       "      <td>94578533</td>\n",
       "      <td>203566436.0</td>\n",
       "      <td>3</td>\n",
       "    </tr>\n",
       "    <tr>\n",
       "      <th>0</th>\n",
       "      <td>94578533</td>\n",
       "      <td>202820287.0</td>\n",
       "      <td>4</td>\n",
       "    </tr>\n",
       "    <tr>\n",
       "      <th>0</th>\n",
       "      <td>94578533</td>\n",
       "      <td>203455576.0</td>\n",
       "      <td>5</td>\n",
       "    </tr>\n",
       "  </tbody>\n",
       "</table>\n",
       "</div>"
      ],
      "text/plain": [
       "    user_id      item_id  rank\n",
       "0  94578533  202914232.0     1\n",
       "0  94578533  202807115.0     2\n",
       "0  94578533  203566436.0     3\n",
       "0  94578533  202820287.0     4\n",
       "0  94578533  203455576.0     5"
      ]
     },
     "execution_count": 27,
     "metadata": {},
     "output_type": "execute_result"
    }
   ],
   "source": [
    "# генерируем предказания\n",
    "candidates['item_id'] = candidates['user_id'].progress_map(mapper)\n",
    "# candidates['item_id'] = candidates['user_id'].map(mapper)\n",
    "candidates = candidates.explode('item_id')\n",
    "candidates['rank'] = candidates.groupby('user_id').cumcount() + 1 \n",
    "\n",
    "candidates.head()"
   ]
  },
  {
   "cell_type": "code",
   "execution_count": 28,
   "id": "84731e6e",
   "metadata": {
    "execution": {
     "iopub.execute_input": "2022-03-26T21:00:25.821969Z",
     "iopub.status.busy": "2022-03-26T21:00:25.821283Z",
     "iopub.status.idle": "2022-03-26T21:00:49.248871Z",
     "shell.execute_reply": "2022-03-26T21:00:49.248313Z"
    },
    "papermill": {
     "duration": 24.672407,
     "end_time": "2022-03-26T21:00:49.249035",
     "exception": false,
     "start_time": "2022-03-26T21:00:24.576628",
     "status": "completed"
    },
    "tags": []
   },
   "outputs": [],
   "source": [
    "candidates.to_csv('candidates_stage_1.csv', index=False)"
   ]
  },
  {
   "cell_type": "markdown",
   "id": "1e47ec61",
   "metadata": {
    "papermill": {
     "duration": 1.24091,
     "end_time": "2022-03-26T21:00:51.825693",
     "exception": false,
     "start_time": "2022-03-26T21:00:50.584783",
     "status": "completed"
    },
    "tags": []
   },
   "source": [
    "# Предсказания для submisionm"
   ]
  },
  {
   "cell_type": "code",
   "execution_count": 29,
   "id": "d681371d",
   "metadata": {
    "execution": {
     "iopub.execute_input": "2022-03-26T21:00:54.331151Z",
     "iopub.status.busy": "2022-03-26T21:00:54.330454Z",
     "iopub.status.idle": "2022-03-26T21:00:54.348047Z",
     "shell.execute_reply": "2022-03-26T21:00:54.348753Z"
    },
    "papermill": {
     "duration": 1.263022,
     "end_time": "2022-03-26T21:00:54.348927",
     "exception": false,
     "start_time": "2022-03-26T21:00:53.085905",
     "status": "completed"
    },
    "tags": []
   },
   "outputs": [
    {
     "data": {
      "text/html": [
       "<div>\n",
       "<style scoped>\n",
       "    .dataframe tbody tr th:only-of-type {\n",
       "        vertical-align: middle;\n",
       "    }\n",
       "\n",
       "    .dataframe tbody tr th {\n",
       "        vertical-align: top;\n",
       "    }\n",
       "\n",
       "    .dataframe thead th {\n",
       "        text-align: right;\n",
       "    }\n",
       "</style>\n",
       "<table border=\"1\" class=\"dataframe\">\n",
       "  <thead>\n",
       "    <tr style=\"text-align: right;\">\n",
       "      <th></th>\n",
       "      <th>user_id</th>\n",
       "    </tr>\n",
       "  </thead>\n",
       "  <tbody>\n",
       "    <tr>\n",
       "      <th>0</th>\n",
       "      <td>94578533</td>\n",
       "    </tr>\n",
       "    <tr>\n",
       "      <th>1</th>\n",
       "      <td>94578595</td>\n",
       "    </tr>\n",
       "    <tr>\n",
       "      <th>2</th>\n",
       "      <td>94578658</td>\n",
       "    </tr>\n",
       "  </tbody>\n",
       "</table>\n",
       "</div>"
      ],
      "text/plain": [
       "    user_id\n",
       "0  94578533\n",
       "1  94578595\n",
       "2  94578658"
      ]
     },
     "execution_count": 29,
     "metadata": {},
     "output_type": "execute_result"
    }
   ],
   "source": [
    "# пустой датафрейм для предсказания\n",
    "candidates = pd.DataFrame({\n",
    "    'user_id': lfm_pred['user_id'].unique()\n",
    "}, dtype=int)\n",
    "\n",
    "candidates.head(3)"
   ]
  },
  {
   "cell_type": "code",
   "execution_count": 30,
   "id": "318fddaa",
   "metadata": {
    "execution": {
     "iopub.execute_input": "2022-03-26T21:00:56.832228Z",
     "iopub.status.busy": "2022-03-26T21:00:56.831488Z",
     "iopub.status.idle": "2022-03-26T21:00:58.268564Z",
     "shell.execute_reply": "2022-03-26T21:00:58.269568Z"
    },
    "papermill": {
     "duration": 2.685899,
     "end_time": "2022-03-26T21:00:58.269883",
     "exception": false,
     "start_time": "2022-03-26T21:00:55.583984",
     "status": "completed"
    },
    "tags": []
   },
   "outputs": [
    {
     "name": "stdout",
     "output_type": "stream",
     "text": [
      "(1081420, 7)\n"
     ]
    },
    {
     "data": {
      "text/html": [
       "<div>\n",
       "<style scoped>\n",
       "    .dataframe tbody tr th:only-of-type {\n",
       "        vertical-align: middle;\n",
       "    }\n",
       "\n",
       "    .dataframe tbody tr th {\n",
       "        vertical-align: top;\n",
       "    }\n",
       "\n",
       "    .dataframe thead th {\n",
       "        text-align: right;\n",
       "    }\n",
       "</style>\n",
       "<table border=\"1\" class=\"dataframe\">\n",
       "  <thead>\n",
       "    <tr style=\"text-align: right;\">\n",
       "      <th></th>\n",
       "      <th>buyer_id</th>\n",
       "      <th>pav_order_id</th>\n",
       "      <th>created</th>\n",
       "      <th>item_id</th>\n",
       "      <th>count</th>\n",
       "      <th>price_sold</th>\n",
       "      <th>flag_weight_goods</th>\n",
       "    </tr>\n",
       "  </thead>\n",
       "  <tbody>\n",
       "    <tr>\n",
       "      <th>638826</th>\n",
       "      <td>96345915</td>\n",
       "      <td>98520531300</td>\n",
       "      <td>2021-09-04 20:18:43</td>\n",
       "      <td>203400060</td>\n",
       "      <td>1.000</td>\n",
       "      <td>59.990</td>\n",
       "      <td>False</td>\n",
       "    </tr>\n",
       "    <tr>\n",
       "      <th>747467</th>\n",
       "      <td>96353895</td>\n",
       "      <td>98519573884</td>\n",
       "      <td>2021-09-01 10:36:27</td>\n",
       "      <td>202838754</td>\n",
       "      <td>1.096</td>\n",
       "      <td>44.995</td>\n",
       "      <td>True</td>\n",
       "    </tr>\n",
       "    <tr>\n",
       "      <th>159960</th>\n",
       "      <td>95079563</td>\n",
       "      <td>98519928394</td>\n",
       "      <td>2021-09-02 18:08:21</td>\n",
       "      <td>202991914</td>\n",
       "      <td>1.000</td>\n",
       "      <td>89.890</td>\n",
       "      <td>False</td>\n",
       "    </tr>\n",
       "    <tr>\n",
       "      <th>84643</th>\n",
       "      <td>94734210</td>\n",
       "      <td>98520916736</td>\n",
       "      <td>2021-09-06 11:52:30</td>\n",
       "      <td>202797999</td>\n",
       "      <td>2.000</td>\n",
       "      <td>59.990</td>\n",
       "      <td>False</td>\n",
       "    </tr>\n",
       "    <tr>\n",
       "      <th>564660</th>\n",
       "      <td>95142943</td>\n",
       "      <td>98515486677</td>\n",
       "      <td>2021-08-13 11:58:29</td>\n",
       "      <td>202894145</td>\n",
       "      <td>1.000</td>\n",
       "      <td>99.990</td>\n",
       "      <td>False</td>\n",
       "    </tr>\n",
       "    <tr>\n",
       "      <th>149370</th>\n",
       "      <td>94708158</td>\n",
       "      <td>98512875200</td>\n",
       "      <td>2021-07-30 23:49:18</td>\n",
       "      <td>202953901</td>\n",
       "      <td>0.514</td>\n",
       "      <td>34.995</td>\n",
       "      <td>True</td>\n",
       "    </tr>\n",
       "    <tr>\n",
       "      <th>715634</th>\n",
       "      <td>94652201</td>\n",
       "      <td>98519772455</td>\n",
       "      <td>2021-09-02 08:54:01</td>\n",
       "      <td>205737852</td>\n",
       "      <td>4.000</td>\n",
       "      <td>29.990</td>\n",
       "      <td>False</td>\n",
       "    </tr>\n",
       "    <tr>\n",
       "      <th>376469</th>\n",
       "      <td>95237660</td>\n",
       "      <td>4620188004</td>\n",
       "      <td>2021-08-16 10:32:28</td>\n",
       "      <td>202807180</td>\n",
       "      <td>2.000</td>\n",
       "      <td>107.190</td>\n",
       "      <td>False</td>\n",
       "    </tr>\n",
       "    <tr>\n",
       "      <th>196265</th>\n",
       "      <td>95211137</td>\n",
       "      <td>98518139693</td>\n",
       "      <td>2021-08-26 08:24:33</td>\n",
       "      <td>205952431</td>\n",
       "      <td>1.000</td>\n",
       "      <td>188.490</td>\n",
       "      <td>False</td>\n",
       "    </tr>\n",
       "    <tr>\n",
       "      <th>103919</th>\n",
       "      <td>94773674</td>\n",
       "      <td>98520501303</td>\n",
       "      <td>2021-09-04 18:15:01</td>\n",
       "      <td>204021171</td>\n",
       "      <td>1.000</td>\n",
       "      <td>110.990</td>\n",
       "      <td>False</td>\n",
       "    </tr>\n",
       "  </tbody>\n",
       "</table>\n",
       "</div>"
      ],
      "text/plain": [
       "        buyer_id  pav_order_id              created    item_id  count  \\\n",
       "638826  96345915   98520531300  2021-09-04 20:18:43  203400060  1.000   \n",
       "747467  96353895   98519573884  2021-09-01 10:36:27  202838754  1.096   \n",
       "159960  95079563   98519928394  2021-09-02 18:08:21  202991914  1.000   \n",
       "84643   94734210   98520916736  2021-09-06 11:52:30  202797999  2.000   \n",
       "564660  95142943   98515486677  2021-08-13 11:58:29  202894145  1.000   \n",
       "149370  94708158   98512875200  2021-07-30 23:49:18  202953901  0.514   \n",
       "715634  94652201   98519772455  2021-09-02 08:54:01  205737852  4.000   \n",
       "376469  95237660    4620188004  2021-08-16 10:32:28  202807180  2.000   \n",
       "196265  95211137   98518139693  2021-08-26 08:24:33  205952431  1.000   \n",
       "103919  94773674   98520501303  2021-09-04 18:15:01  204021171  1.000   \n",
       "\n",
       "        price_sold  flag_weight_goods  \n",
       "638826      59.990              False  \n",
       "747467      44.995               True  \n",
       "159960      89.890              False  \n",
       "84643       59.990              False  \n",
       "564660      99.990              False  \n",
       "149370      34.995               True  \n",
       "715634      29.990              False  \n",
       "376469     107.190              False  \n",
       "196265     188.490              False  \n",
       "103919     110.990              False  "
      ]
     },
     "execution_count": 30,
     "metadata": {},
     "output_type": "execute_result"
    }
   ],
   "source": [
    "test = pd.read_csv('../input/hack-the-cart/test.csv')\n",
    "print(test.shape)\n",
    "test.sample(10)"
   ]
  },
  {
   "cell_type": "code",
   "execution_count": 31,
   "id": "f1d09cb0",
   "metadata": {
    "execution": {
     "iopub.execute_input": "2022-03-26T21:01:00.818362Z",
     "iopub.status.busy": "2022-03-26T21:01:00.817728Z",
     "iopub.status.idle": "2022-03-26T21:01:01.887832Z",
     "shell.execute_reply": "2022-03-26T21:01:01.887280Z"
    },
    "papermill": {
     "duration": 2.318135,
     "end_time": "2022-03-26T21:01:01.887971",
     "exception": false,
     "start_time": "2022-03-26T21:00:59.569836",
     "status": "completed"
    },
    "tags": []
   },
   "outputs": [
    {
     "data": {
      "text/html": [
       "<div>\n",
       "<style scoped>\n",
       "    .dataframe tbody tr th:only-of-type {\n",
       "        vertical-align: middle;\n",
       "    }\n",
       "\n",
       "    .dataframe tbody tr th {\n",
       "        vertical-align: top;\n",
       "    }\n",
       "\n",
       "    .dataframe thead th {\n",
       "        text-align: right;\n",
       "    }\n",
       "</style>\n",
       "<table border=\"1\" class=\"dataframe\">\n",
       "  <thead>\n",
       "    <tr style=\"text-align: right;\">\n",
       "      <th></th>\n",
       "      <th>buyer_id</th>\n",
       "      <th>pav_order_id</th>\n",
       "      <th>known_items</th>\n",
       "    </tr>\n",
       "  </thead>\n",
       "  <tbody>\n",
       "    <tr>\n",
       "      <th>0</th>\n",
       "      <td>94578440</td>\n",
       "      <td>98520921566</td>\n",
       "      <td>[203474864, 2028...</td>\n",
       "    </tr>\n",
       "    <tr>\n",
       "      <th>1</th>\n",
       "      <td>94578442</td>\n",
       "      <td>98519811873</td>\n",
       "      <td>[203235251, 2035...</td>\n",
       "    </tr>\n",
       "    <tr>\n",
       "      <th>2</th>\n",
       "      <td>94578454</td>\n",
       "      <td>98518335363</td>\n",
       "      <td>[204083530, 2034...</td>\n",
       "    </tr>\n",
       "    <tr>\n",
       "      <th>3</th>\n",
       "      <td>94578475</td>\n",
       "      <td>98520998296</td>\n",
       "      <td>[203566146, 2035...</td>\n",
       "    </tr>\n",
       "    <tr>\n",
       "      <th>4</th>\n",
       "      <td>94578533</td>\n",
       "      <td>98519408284</td>\n",
       "      <td>[213903767, 2033...</td>\n",
       "    </tr>\n",
       "    <tr>\n",
       "      <th>...</th>\n",
       "      <td>...</td>\n",
       "      <td>...</td>\n",
       "      <td>...</td>\n",
       "    </tr>\n",
       "    <tr>\n",
       "      <th>80239</th>\n",
       "      <td>96405796</td>\n",
       "      <td>98521263508</td>\n",
       "      <td>[202820143, 2034...</td>\n",
       "    </tr>\n",
       "    <tr>\n",
       "      <th>80240</th>\n",
       "      <td>96406017</td>\n",
       "      <td>98521269190</td>\n",
       "      <td>[203439307, 2028...</td>\n",
       "    </tr>\n",
       "    <tr>\n",
       "      <th>80241</th>\n",
       "      <td>96406151</td>\n",
       "      <td>98521271961</td>\n",
       "      <td>[203469498, 2029...</td>\n",
       "    </tr>\n",
       "    <tr>\n",
       "      <th>80242</th>\n",
       "      <td>96406233</td>\n",
       "      <td>98521274492</td>\n",
       "      <td>[202944500, 2028...</td>\n",
       "    </tr>\n",
       "    <tr>\n",
       "      <th>80243</th>\n",
       "      <td>96406335</td>\n",
       "      <td>98521277047</td>\n",
       "      <td>[202808615, 2033...</td>\n",
       "    </tr>\n",
       "  </tbody>\n",
       "</table>\n",
       "<p>80244 rows × 3 columns</p>\n",
       "</div>"
      ],
      "text/plain": [
       "       buyer_id  pav_order_id          known_items\n",
       "0      94578440   98520921566  [203474864, 2028...\n",
       "1      94578442   98519811873  [203235251, 2035...\n",
       "2      94578454   98518335363  [204083530, 2034...\n",
       "3      94578475   98520998296  [203566146, 2035...\n",
       "4      94578533   98519408284  [213903767, 2033...\n",
       "...         ...           ...                  ...\n",
       "80239  96405796   98521263508  [202820143, 2034...\n",
       "80240  96406017   98521269190  [203439307, 2028...\n",
       "80241  96406151   98521271961  [203469498, 2029...\n",
       "80242  96406233   98521274492  [202944500, 2028...\n",
       "80243  96406335   98521277047  [202808615, 2033...\n",
       "\n",
       "[80244 rows x 3 columns]"
      ]
     },
     "execution_count": 31,
     "metadata": {},
     "output_type": "execute_result"
    }
   ],
   "source": [
    "to_list = lambda x: x.to_list()\n",
    "\n",
    "test_tmp = test.groupby(['buyer_id', 'pav_order_id'], as_index=False).agg(known_items = ('item_id', to_list))\n",
    "test_tmp"
   ]
  },
  {
   "cell_type": "code",
   "execution_count": 32,
   "id": "e7040d27",
   "metadata": {
    "execution": {
     "iopub.execute_input": "2022-03-26T21:01:04.574434Z",
     "iopub.status.busy": "2022-03-26T21:01:04.573468Z",
     "iopub.status.idle": "2022-03-26T21:01:04.580043Z",
     "shell.execute_reply": "2022-03-26T21:01:04.580598Z"
    },
    "papermill": {
     "duration": 1.442741,
     "end_time": "2022-03-26T21:01:04.580771",
     "exception": false,
     "start_time": "2022-03-26T21:01:03.138030",
     "status": "completed"
    },
    "tags": []
   },
   "outputs": [],
   "source": [
    "top_20 = train.item_id.value_counts().index[:20].values"
   ]
  },
  {
   "cell_type": "code",
   "execution_count": 33,
   "id": "c69d739f",
   "metadata": {
    "execution": {
     "iopub.execute_input": "2022-03-26T21:01:07.068453Z",
     "iopub.status.busy": "2022-03-26T21:01:07.067801Z",
     "iopub.status.idle": "2022-03-26T21:01:07.071836Z",
     "shell.execute_reply": "2022-03-26T21:01:07.072435Z"
    },
    "papermill": {
     "duration": 1.256903,
     "end_time": "2022-03-26T21:01:07.072607",
     "exception": false,
     "start_time": "2022-03-26T21:01:05.815704",
     "status": "completed"
    },
    "tags": []
   },
   "outputs": [],
   "source": [
    "def mapper_with_cold_start(user_id=None, known_items=[]):\n",
    "    \n",
    "    if user_id in lightfm_mapping['users_mapping'].keys():\n",
    "        return mapper(user_id, known_items = known_items)\n",
    "        \n",
    "    return top_20\n",
    "    "
   ]
  },
  {
   "cell_type": "code",
   "execution_count": 34,
   "id": "2cb9a5ae",
   "metadata": {
    "execution": {
     "iopub.execute_input": "2022-03-26T21:01:09.556034Z",
     "iopub.status.busy": "2022-03-26T21:01:09.555380Z",
     "iopub.status.idle": "2022-03-26T21:13:08.876362Z",
     "shell.execute_reply": "2022-03-26T21:13:08.876890Z"
    },
    "papermill": {
     "duration": 720.560716,
     "end_time": "2022-03-26T21:13:08.877085",
     "exception": false,
     "start_time": "2022-03-26T21:01:08.316369",
     "status": "completed"
    },
    "tags": []
   },
   "outputs": [
    {
     "name": "stderr",
     "output_type": "stream",
     "text": [
      "100%|██████████| 80244/80244 [09:24<00:00, 142.24it/s] \n"
     ]
    },
    {
     "data": {
      "text/html": [
       "<div>\n",
       "<style scoped>\n",
       "    .dataframe tbody tr th:only-of-type {\n",
       "        vertical-align: middle;\n",
       "    }\n",
       "\n",
       "    .dataframe tbody tr th {\n",
       "        vertical-align: top;\n",
       "    }\n",
       "\n",
       "    .dataframe thead th {\n",
       "        text-align: right;\n",
       "    }\n",
       "</style>\n",
       "<table border=\"1\" class=\"dataframe\">\n",
       "  <thead>\n",
       "    <tr style=\"text-align: right;\">\n",
       "      <th></th>\n",
       "      <th>user_id</th>\n",
       "      <th>pav_order_id</th>\n",
       "      <th>known_items</th>\n",
       "      <th>item_id</th>\n",
       "      <th>rank</th>\n",
       "    </tr>\n",
       "  </thead>\n",
       "  <tbody>\n",
       "    <tr>\n",
       "      <th>0</th>\n",
       "      <td>94578440</td>\n",
       "      <td>98520921566</td>\n",
       "      <td>[203474864, 2028...</td>\n",
       "      <td>202820148</td>\n",
       "      <td>1</td>\n",
       "    </tr>\n",
       "    <tr>\n",
       "      <th>0</th>\n",
       "      <td>94578440</td>\n",
       "      <td>98520921566</td>\n",
       "      <td>[203474864, 2028...</td>\n",
       "      <td>202872237</td>\n",
       "      <td>2</td>\n",
       "    </tr>\n",
       "    <tr>\n",
       "      <th>0</th>\n",
       "      <td>94578440</td>\n",
       "      <td>98520921566</td>\n",
       "      <td>[203474864, 2028...</td>\n",
       "      <td>202809628</td>\n",
       "      <td>3</td>\n",
       "    </tr>\n",
       "    <tr>\n",
       "      <th>0</th>\n",
       "      <td>94578440</td>\n",
       "      <td>98520921566</td>\n",
       "      <td>[203474864, 2028...</td>\n",
       "      <td>202862432</td>\n",
       "      <td>4</td>\n",
       "    </tr>\n",
       "    <tr>\n",
       "      <th>0</th>\n",
       "      <td>94578440</td>\n",
       "      <td>98520921566</td>\n",
       "      <td>[203474864, 2028...</td>\n",
       "      <td>203404725</td>\n",
       "      <td>5</td>\n",
       "    </tr>\n",
       "  </tbody>\n",
       "</table>\n",
       "</div>"
      ],
      "text/plain": [
       "    user_id  pav_order_id          known_items    item_id  rank\n",
       "0  94578440   98520921566  [203474864, 2028...  202820148     1\n",
       "0  94578440   98520921566  [203474864, 2028...  202872237     2\n",
       "0  94578440   98520921566  [203474864, 2028...  202809628     3\n",
       "0  94578440   98520921566  [203474864, 2028...  202862432     4\n",
       "0  94578440   98520921566  [203474864, 2028...  203404725     5"
      ]
     },
     "execution_count": 34,
     "metadata": {},
     "output_type": "execute_result"
    }
   ],
   "source": [
    "sample_submission = test_tmp #pd.read_csv('../input/hack-the-cart/test.csv')\n",
    "sample_submission.rename(columns = {'buyer_id':'user_id'}, inplace=True)\n",
    "sample_submission['user_id'] = sample_submission['user_id'].values.astype(int)\n",
    "# генерируем предказания\n",
    "\n",
    "\n",
    "# sample_submission['item_id'] = sample_submission['user_id'].progress_map(mapper)\n",
    "sample_submission['item_id'] = sample_submission.progress_apply(lambda x: mapper_with_cold_start(x['user_id']), axis=1) # , x['known_items']\n",
    "# sample_submission['item_id'] = sample_submission.progress_apply(mapper_with_cold_start, user_id = user_id)\n",
    "sample_submission = sample_submission.explode('item_id')\n",
    "sample_submission['rank'] = sample_submission.groupby('user_id').cumcount() + 1 \n",
    "sample_submission.to_csv('sub_lfm.csv', index=False)\n",
    "sample_submission.head()\n"
   ]
  },
  {
   "cell_type": "code",
   "execution_count": 35,
   "id": "38d1575d",
   "metadata": {
    "execution": {
     "iopub.execute_input": "2022-03-26T21:13:15.120631Z",
     "iopub.status.busy": "2022-03-26T21:13:15.119876Z",
     "iopub.status.idle": "2022-03-26T21:13:16.296128Z",
     "shell.execute_reply": "2022-03-26T21:13:16.295565Z"
    },
    "papermill": {
     "duration": 4.307427,
     "end_time": "2022-03-26T21:13:16.296295",
     "exception": false,
     "start_time": "2022-03-26T21:13:11.988868",
     "status": "completed"
    },
    "tags": []
   },
   "outputs": [
    {
     "data": {
      "text/html": [
       "<div>\n",
       "<style scoped>\n",
       "    .dataframe tbody tr th:only-of-type {\n",
       "        vertical-align: middle;\n",
       "    }\n",
       "\n",
       "    .dataframe tbody tr th {\n",
       "        vertical-align: top;\n",
       "    }\n",
       "\n",
       "    .dataframe thead th {\n",
       "        text-align: right;\n",
       "    }\n",
       "</style>\n",
       "<table border=\"1\" class=\"dataframe\">\n",
       "  <thead>\n",
       "    <tr style=\"text-align: right;\">\n",
       "      <th></th>\n",
       "      <th>user_id</th>\n",
       "      <th>pav_order_id</th>\n",
       "      <th>known_items</th>\n",
       "      <th>item_id</th>\n",
       "      <th>rank</th>\n",
       "    </tr>\n",
       "  </thead>\n",
       "  <tbody>\n",
       "    <tr>\n",
       "      <th>66601</th>\n",
       "      <td>96002122</td>\n",
       "      <td>98511991221</td>\n",
       "      <td>[203419976, 2028...</td>\n",
       "      <td>202794687.0</td>\n",
       "      <td>107</td>\n",
       "    </tr>\n",
       "    <tr>\n",
       "      <th>25360</th>\n",
       "      <td>94999054</td>\n",
       "      <td>4620196408</td>\n",
       "      <td>[205781250, 2034...</td>\n",
       "      <td>210734379.0</td>\n",
       "      <td>46</td>\n",
       "    </tr>\n",
       "    <tr>\n",
       "      <th>47401</th>\n",
       "      <td>95417616</td>\n",
       "      <td>98515512261</td>\n",
       "      <td>[203121858, 2040...</td>\n",
       "      <td>203475722.0</td>\n",
       "      <td>123</td>\n",
       "    </tr>\n",
       "    <tr>\n",
       "      <th>67862</th>\n",
       "      <td>96036435</td>\n",
       "      <td>4620186819</td>\n",
       "      <td>[203446118, 2041...</td>\n",
       "      <td>202967706.0</td>\n",
       "      <td>147</td>\n",
       "    </tr>\n",
       "    <tr>\n",
       "      <th>55994</th>\n",
       "      <td>95649831</td>\n",
       "      <td>98521250393</td>\n",
       "      <td>[217826155, 2034...</td>\n",
       "      <td>202807359.0</td>\n",
       "      <td>191</td>\n",
       "    </tr>\n",
       "    <tr>\n",
       "      <th>2738</th>\n",
       "      <td>94630138</td>\n",
       "      <td>98517229092</td>\n",
       "      <td>[202880254, 2028...</td>\n",
       "      <td>211072423.0</td>\n",
       "      <td>62</td>\n",
       "    </tr>\n",
       "    <tr>\n",
       "      <th>44571</th>\n",
       "      <td>95340053</td>\n",
       "      <td>98511020240</td>\n",
       "      <td>[203408409, 2028...</td>\n",
       "      <td>202820148.0</td>\n",
       "      <td>1</td>\n",
       "    </tr>\n",
       "    <tr>\n",
       "      <th>20384</th>\n",
       "      <td>94913112</td>\n",
       "      <td>98520727585</td>\n",
       "      <td>[202807298, 2033...</td>\n",
       "      <td>202884489.0</td>\n",
       "      <td>18</td>\n",
       "    </tr>\n",
       "    <tr>\n",
       "      <th>33108</th>\n",
       "      <td>95125580</td>\n",
       "      <td>98519051612</td>\n",
       "      <td>[202794649, 2028...</td>\n",
       "      <td>203566122.0</td>\n",
       "      <td>195</td>\n",
       "    </tr>\n",
       "    <tr>\n",
       "      <th>76650</th>\n",
       "      <td>96281870</td>\n",
       "      <td>98520777900</td>\n",
       "      <td>[204033776, 2034...</td>\n",
       "      <td>203425095.0</td>\n",
       "      <td>37</td>\n",
       "    </tr>\n",
       "    <tr>\n",
       "      <th>29616</th>\n",
       "      <td>95069749</td>\n",
       "      <td>98519748385</td>\n",
       "      <td>[202801523, 2040...</td>\n",
       "      <td>203566371.0</td>\n",
       "      <td>61</td>\n",
       "    </tr>\n",
       "    <tr>\n",
       "      <th>33861</th>\n",
       "      <td>95139857</td>\n",
       "      <td>98520858019</td>\n",
       "      <td>[202967705, 2034...</td>\n",
       "      <td>203411027.0</td>\n",
       "      <td>65</td>\n",
       "    </tr>\n",
       "    <tr>\n",
       "      <th>32705</th>\n",
       "      <td>95118635</td>\n",
       "      <td>98519713235</td>\n",
       "      <td>[202820148, 2040...</td>\n",
       "      <td>207194699.0</td>\n",
       "      <td>158</td>\n",
       "    </tr>\n",
       "    <tr>\n",
       "      <th>44807</th>\n",
       "      <td>95345320</td>\n",
       "      <td>98515026832</td>\n",
       "      <td>[202963897, 2034...</td>\n",
       "      <td>204048915.0</td>\n",
       "      <td>62</td>\n",
       "    </tr>\n",
       "    <tr>\n",
       "      <th>46271</th>\n",
       "      <td>95378905</td>\n",
       "      <td>4620209461</td>\n",
       "      <td>[203568230, 2075...</td>\n",
       "      <td>203446976.0</td>\n",
       "      <td>131</td>\n",
       "    </tr>\n",
       "    <tr>\n",
       "      <th>47768</th>\n",
       "      <td>95425712</td>\n",
       "      <td>98520609619</td>\n",
       "      <td>[205755483, 2110...</td>\n",
       "      <td>202931790.0</td>\n",
       "      <td>87</td>\n",
       "    </tr>\n",
       "    <tr>\n",
       "      <th>45370</th>\n",
       "      <td>95358344</td>\n",
       "      <td>98515264114</td>\n",
       "      <td>[203407533, 2040...</td>\n",
       "      <td>202876533.0</td>\n",
       "      <td>77</td>\n",
       "    </tr>\n",
       "    <tr>\n",
       "      <th>48642</th>\n",
       "      <td>95448408</td>\n",
       "      <td>98513672868</td>\n",
       "      <td>[202811962, 2033...</td>\n",
       "      <td>203578020.0</td>\n",
       "      <td>121</td>\n",
       "    </tr>\n",
       "    <tr>\n",
       "      <th>24831</th>\n",
       "      <td>94988848</td>\n",
       "      <td>98520046439</td>\n",
       "      <td>[202794692, 2033...</td>\n",
       "      <td>202819075.0</td>\n",
       "      <td>88</td>\n",
       "    </tr>\n",
       "    <tr>\n",
       "      <th>19277</th>\n",
       "      <td>94893284</td>\n",
       "      <td>98520706384</td>\n",
       "      <td>[202796094, 2041...</td>\n",
       "      <td>202820144.0</td>\n",
       "      <td>115</td>\n",
       "    </tr>\n",
       "  </tbody>\n",
       "</table>\n",
       "</div>"
      ],
      "text/plain": [
       "        user_id  pav_order_id          known_items      item_id  rank\n",
       "66601  96002122   98511991221  [203419976, 2028...  202794687.0   107\n",
       "25360  94999054    4620196408  [205781250, 2034...  210734379.0    46\n",
       "47401  95417616   98515512261  [203121858, 2040...  203475722.0   123\n",
       "67862  96036435    4620186819  [203446118, 2041...  202967706.0   147\n",
       "55994  95649831   98521250393  [217826155, 2034...  202807359.0   191\n",
       "2738   94630138   98517229092  [202880254, 2028...  211072423.0    62\n",
       "44571  95340053   98511020240  [203408409, 2028...  202820148.0     1\n",
       "20384  94913112   98520727585  [202807298, 2033...  202884489.0    18\n",
       "33108  95125580   98519051612  [202794649, 2028...  203566122.0   195\n",
       "76650  96281870   98520777900  [204033776, 2034...  203425095.0    37\n",
       "29616  95069749   98519748385  [202801523, 2040...  203566371.0    61\n",
       "33861  95139857   98520858019  [202967705, 2034...  203411027.0    65\n",
       "32705  95118635   98519713235  [202820148, 2040...  207194699.0   158\n",
       "44807  95345320   98515026832  [202963897, 2034...  204048915.0    62\n",
       "46271  95378905    4620209461  [203568230, 2075...  203446976.0   131\n",
       "47768  95425712   98520609619  [205755483, 2110...  202931790.0    87\n",
       "45370  95358344   98515264114  [203407533, 2040...  202876533.0    77\n",
       "48642  95448408   98513672868  [202811962, 2033...  203578020.0   121\n",
       "24831  94988848   98520046439  [202794692, 2033...  202819075.0    88\n",
       "19277  94893284   98520706384  [202796094, 2041...  202820144.0   115"
      ]
     },
     "execution_count": 35,
     "metadata": {},
     "output_type": "execute_result"
    }
   ],
   "source": [
    "sample_submission.sample(20)"
   ]
  },
  {
   "cell_type": "code",
   "execution_count": 36,
   "id": "2654e86a",
   "metadata": {
    "execution": {
     "iopub.execute_input": "2022-03-26T21:13:22.745100Z",
     "iopub.status.busy": "2022-03-26T21:13:22.744070Z",
     "iopub.status.idle": "2022-03-26T21:13:26.869192Z",
     "shell.execute_reply": "2022-03-26T21:13:26.868039Z"
    },
    "papermill": {
     "duration": 7.371064,
     "end_time": "2022-03-26T21:13:26.869354",
     "exception": false,
     "start_time": "2022-03-26T21:13:19.498290",
     "status": "completed"
    },
    "tags": []
   },
   "outputs": [],
   "source": [
    "to_list = lambda x: x.to_list()[:20]\n",
    "\n",
    "sample_submission.groupby('pav_order_id', as_index=False).agg(preds = ('item_id', to_list)).to_csv('tmp_submission.csv', index=False)"
   ]
  },
  {
   "cell_type": "code",
   "execution_count": 37,
   "id": "d6242e64",
   "metadata": {
    "execution": {
     "iopub.execute_input": "2022-03-26T21:13:33.169148Z",
     "iopub.status.busy": "2022-03-26T21:13:33.168446Z",
     "iopub.status.idle": "2022-03-26T21:13:33.522926Z",
     "shell.execute_reply": "2022-03-26T21:13:33.522379Z"
    },
    "papermill": {
     "duration": 3.549828,
     "end_time": "2022-03-26T21:13:33.523101",
     "exception": false,
     "start_time": "2022-03-26T21:13:29.973273",
     "status": "completed"
    },
    "tags": []
   },
   "outputs": [
    {
     "data": {
      "text/html": [
       "<div>\n",
       "<style scoped>\n",
       "    .dataframe tbody tr th:only-of-type {\n",
       "        vertical-align: middle;\n",
       "    }\n",
       "\n",
       "    .dataframe tbody tr th {\n",
       "        vertical-align: top;\n",
       "    }\n",
       "\n",
       "    .dataframe thead th {\n",
       "        text-align: right;\n",
       "    }\n",
       "</style>\n",
       "<table border=\"1\" class=\"dataframe\">\n",
       "  <thead>\n",
       "    <tr style=\"text-align: right;\">\n",
       "      <th></th>\n",
       "      <th>pav_order_id</th>\n",
       "      <th>preds</th>\n",
       "    </tr>\n",
       "  </thead>\n",
       "  <tbody>\n",
       "    <tr>\n",
       "      <th>0</th>\n",
       "      <td>4620121489</td>\n",
       "      <td>[202820148, 2028...</td>\n",
       "    </tr>\n",
       "    <tr>\n",
       "      <th>1</th>\n",
       "      <td>4620121505</td>\n",
       "      <td>[202820148, 2028...</td>\n",
       "    </tr>\n",
       "    <tr>\n",
       "      <th>2</th>\n",
       "      <td>4620121594</td>\n",
       "      <td>[202820148, 2028...</td>\n",
       "    </tr>\n",
       "    <tr>\n",
       "      <th>3</th>\n",
       "      <td>4620121684</td>\n",
       "      <td>[202820148, 2028...</td>\n",
       "    </tr>\n",
       "    <tr>\n",
       "      <th>4</th>\n",
       "      <td>4620121902</td>\n",
       "      <td>[202820148, 2034...</td>\n",
       "    </tr>\n",
       "  </tbody>\n",
       "</table>\n",
       "</div>"
      ],
      "text/plain": [
       "   pav_order_id                preds\n",
       "0    4620121489  [202820148, 2028...\n",
       "1    4620121505  [202820148, 2028...\n",
       "2    4620121594  [202820148, 2028...\n",
       "3    4620121684  [202820148, 2028...\n",
       "4    4620121902  [202820148, 2034..."
      ]
     },
     "execution_count": 37,
     "metadata": {},
     "output_type": "execute_result"
    }
   ],
   "source": [
    "pd.read_csv('../input/hack-the-cart/sample_submission.csv').head()"
   ]
  },
  {
   "cell_type": "code",
   "execution_count": null,
   "id": "f7af3128",
   "metadata": {
    "papermill": {
     "duration": 3.103385,
     "end_time": "2022-03-26T21:13:39.731635",
     "exception": false,
     "start_time": "2022-03-26T21:13:36.628250",
     "status": "completed"
    },
    "tags": []
   },
   "outputs": [],
   "source": []
  }
 ],
 "metadata": {
  "kernelspec": {
   "display_name": "Python 3",
   "language": "python",
   "name": "python3"
  },
  "language_info": {
   "codemirror_mode": {
    "name": "ipython",
    "version": 3
   },
   "file_extension": ".py",
   "mimetype": "text/x-python",
   "name": "python",
   "nbconvert_exporter": "python",
   "pygments_lexer": "ipython3",
   "version": "3.7.12"
  },
  "papermill": {
   "default_parameters": {},
   "duration": 1705.235863,
   "end_time": "2022-03-26T21:13:44.222904",
   "environment_variables": {},
   "exception": null,
   "input_path": "__notebook__.ipynb",
   "output_path": "__notebook__.ipynb",
   "parameters": {},
   "start_time": "2022-03-26T20:45:18.987041",
   "version": "2.3.3"
  },
  "widgets": {
   "application/vnd.jupyter.widget-state+json": {
    "state": {
     "00fa7198dc794f8f862012004504f2ad": {
      "model_module": "@jupyter-widgets/controls",
      "model_module_version": "1.5.0",
      "model_name": "HTMLModel",
      "state": {
       "_dom_classes": [],
       "_model_module": "@jupyter-widgets/controls",
       "_model_module_version": "1.5.0",
       "_model_name": "HTMLModel",
       "_view_count": null,
       "_view_module": "@jupyter-widgets/controls",
       "_view_module_version": "1.5.0",
       "_view_name": "HTMLView",
       "description": "",
       "description_tooltip": null,
       "layout": "IPY_MODEL_93f918ec64d0455185d37218e1f63201",
       "placeholder": "​",
       "style": "IPY_MODEL_c00c90b30fe0460ba44c4237c8757e91",
       "value": " 25/25 [02:50&lt;00:00,  6.25s/it]"
      }
     },
     "52e1bc0a0b264747aa52e45a1d056c66": {
      "model_module": "@jupyter-widgets/controls",
      "model_module_version": "1.5.0",
      "model_name": "HBoxModel",
      "state": {
       "_dom_classes": [],
       "_model_module": "@jupyter-widgets/controls",
       "_model_module_version": "1.5.0",
       "_model_name": "HBoxModel",
       "_view_count": null,
       "_view_module": "@jupyter-widgets/controls",
       "_view_module_version": "1.5.0",
       "_view_name": "HBoxView",
       "box_style": "",
       "children": [
        "IPY_MODEL_c4c33c4e5e0340d6b6d820f8560ef715",
        "IPY_MODEL_d340b874e2f94dcabd4116c50828484d",
        "IPY_MODEL_00fa7198dc794f8f862012004504f2ad"
       ],
       "layout": "IPY_MODEL_a18087acf82c4a2fa892ba41372c6b3c"
      }
     },
     "79f36cbfc09440f4a045516b3817671b": {
      "model_module": "@jupyter-widgets/controls",
      "model_module_version": "1.5.0",
      "model_name": "ProgressStyleModel",
      "state": {
       "_model_module": "@jupyter-widgets/controls",
       "_model_module_version": "1.5.0",
       "_model_name": "ProgressStyleModel",
       "_view_count": null,
       "_view_module": "@jupyter-widgets/base",
       "_view_module_version": "1.2.0",
       "_view_name": "StyleView",
       "bar_color": null,
       "description_width": ""
      }
     },
     "7da11901de134c809d574b44d4ba394a": {
      "model_module": "@jupyter-widgets/base",
      "model_module_version": "1.2.0",
      "model_name": "LayoutModel",
      "state": {
       "_model_module": "@jupyter-widgets/base",
       "_model_module_version": "1.2.0",
       "_model_name": "LayoutModel",
       "_view_count": null,
       "_view_module": "@jupyter-widgets/base",
       "_view_module_version": "1.2.0",
       "_view_name": "LayoutView",
       "align_content": null,
       "align_items": null,
       "align_self": null,
       "border": null,
       "bottom": null,
       "display": null,
       "flex": null,
       "flex_flow": null,
       "grid_area": null,
       "grid_auto_columns": null,
       "grid_auto_flow": null,
       "grid_auto_rows": null,
       "grid_column": null,
       "grid_gap": null,
       "grid_row": null,
       "grid_template_areas": null,
       "grid_template_columns": null,
       "grid_template_rows": null,
       "height": null,
       "justify_content": null,
       "justify_items": null,
       "left": null,
       "margin": null,
       "max_height": null,
       "max_width": null,
       "min_height": null,
       "min_width": null,
       "object_fit": null,
       "object_position": null,
       "order": null,
       "overflow": null,
       "overflow_x": null,
       "overflow_y": null,
       "padding": null,
       "right": null,
       "top": null,
       "visibility": null,
       "width": null
      }
     },
     "93f918ec64d0455185d37218e1f63201": {
      "model_module": "@jupyter-widgets/base",
      "model_module_version": "1.2.0",
      "model_name": "LayoutModel",
      "state": {
       "_model_module": "@jupyter-widgets/base",
       "_model_module_version": "1.2.0",
       "_model_name": "LayoutModel",
       "_view_count": null,
       "_view_module": "@jupyter-widgets/base",
       "_view_module_version": "1.2.0",
       "_view_name": "LayoutView",
       "align_content": null,
       "align_items": null,
       "align_self": null,
       "border": null,
       "bottom": null,
       "display": null,
       "flex": null,
       "flex_flow": null,
       "grid_area": null,
       "grid_auto_columns": null,
       "grid_auto_flow": null,
       "grid_auto_rows": null,
       "grid_column": null,
       "grid_gap": null,
       "grid_row": null,
       "grid_template_areas": null,
       "grid_template_columns": null,
       "grid_template_rows": null,
       "height": null,
       "justify_content": null,
       "justify_items": null,
       "left": null,
       "margin": null,
       "max_height": null,
       "max_width": null,
       "min_height": null,
       "min_width": null,
       "object_fit": null,
       "object_position": null,
       "order": null,
       "overflow": null,
       "overflow_x": null,
       "overflow_y": null,
       "padding": null,
       "right": null,
       "top": null,
       "visibility": null,
       "width": null
      }
     },
     "a18087acf82c4a2fa892ba41372c6b3c": {
      "model_module": "@jupyter-widgets/base",
      "model_module_version": "1.2.0",
      "model_name": "LayoutModel",
      "state": {
       "_model_module": "@jupyter-widgets/base",
       "_model_module_version": "1.2.0",
       "_model_name": "LayoutModel",
       "_view_count": null,
       "_view_module": "@jupyter-widgets/base",
       "_view_module_version": "1.2.0",
       "_view_name": "LayoutView",
       "align_content": null,
       "align_items": null,
       "align_self": null,
       "border": null,
       "bottom": null,
       "display": null,
       "flex": null,
       "flex_flow": null,
       "grid_area": null,
       "grid_auto_columns": null,
       "grid_auto_flow": null,
       "grid_auto_rows": null,
       "grid_column": null,
       "grid_gap": null,
       "grid_row": null,
       "grid_template_areas": null,
       "grid_template_columns": null,
       "grid_template_rows": null,
       "height": null,
       "justify_content": null,
       "justify_items": null,
       "left": null,
       "margin": null,
       "max_height": null,
       "max_width": null,
       "min_height": null,
       "min_width": null,
       "object_fit": null,
       "object_position": null,
       "order": null,
       "overflow": null,
       "overflow_x": null,
       "overflow_y": null,
       "padding": null,
       "right": null,
       "top": null,
       "visibility": null,
       "width": null
      }
     },
     "c00c90b30fe0460ba44c4237c8757e91": {
      "model_module": "@jupyter-widgets/controls",
      "model_module_version": "1.5.0",
      "model_name": "DescriptionStyleModel",
      "state": {
       "_model_module": "@jupyter-widgets/controls",
       "_model_module_version": "1.5.0",
       "_model_name": "DescriptionStyleModel",
       "_view_count": null,
       "_view_module": "@jupyter-widgets/base",
       "_view_module_version": "1.2.0",
       "_view_name": "StyleView",
       "description_width": ""
      }
     },
     "c4c33c4e5e0340d6b6d820f8560ef715": {
      "model_module": "@jupyter-widgets/controls",
      "model_module_version": "1.5.0",
      "model_name": "HTMLModel",
      "state": {
       "_dom_classes": [],
       "_model_module": "@jupyter-widgets/controls",
       "_model_module_version": "1.5.0",
       "_model_name": "HTMLModel",
       "_view_count": null,
       "_view_module": "@jupyter-widgets/controls",
       "_view_module_version": "1.5.0",
       "_view_name": "HTMLView",
       "description": "",
       "description_tooltip": null,
       "layout": "IPY_MODEL_7da11901de134c809d574b44d4ba394a",
       "placeholder": "​",
       "style": "IPY_MODEL_dcf86e143c934d4dab061937bc8644d3",
       "value": "100%"
      }
     },
     "d340b874e2f94dcabd4116c50828484d": {
      "model_module": "@jupyter-widgets/controls",
      "model_module_version": "1.5.0",
      "model_name": "FloatProgressModel",
      "state": {
       "_dom_classes": [],
       "_model_module": "@jupyter-widgets/controls",
       "_model_module_version": "1.5.0",
       "_model_name": "FloatProgressModel",
       "_view_count": null,
       "_view_module": "@jupyter-widgets/controls",
       "_view_module_version": "1.5.0",
       "_view_name": "ProgressView",
       "bar_style": "success",
       "description": "",
       "description_tooltip": null,
       "layout": "IPY_MODEL_e9f24c547d7f4c5b8df37292c11a3fb1",
       "max": 25.0,
       "min": 0.0,
       "orientation": "horizontal",
       "style": "IPY_MODEL_79f36cbfc09440f4a045516b3817671b",
       "value": 25.0
      }
     },
     "dcf86e143c934d4dab061937bc8644d3": {
      "model_module": "@jupyter-widgets/controls",
      "model_module_version": "1.5.0",
      "model_name": "DescriptionStyleModel",
      "state": {
       "_model_module": "@jupyter-widgets/controls",
       "_model_module_version": "1.5.0",
       "_model_name": "DescriptionStyleModel",
       "_view_count": null,
       "_view_module": "@jupyter-widgets/base",
       "_view_module_version": "1.2.0",
       "_view_name": "StyleView",
       "description_width": ""
      }
     },
     "e9f24c547d7f4c5b8df37292c11a3fb1": {
      "model_module": "@jupyter-widgets/base",
      "model_module_version": "1.2.0",
      "model_name": "LayoutModel",
      "state": {
       "_model_module": "@jupyter-widgets/base",
       "_model_module_version": "1.2.0",
       "_model_name": "LayoutModel",
       "_view_count": null,
       "_view_module": "@jupyter-widgets/base",
       "_view_module_version": "1.2.0",
       "_view_name": "LayoutView",
       "align_content": null,
       "align_items": null,
       "align_self": null,
       "border": null,
       "bottom": null,
       "display": null,
       "flex": null,
       "flex_flow": null,
       "grid_area": null,
       "grid_auto_columns": null,
       "grid_auto_flow": null,
       "grid_auto_rows": null,
       "grid_column": null,
       "grid_gap": null,
       "grid_row": null,
       "grid_template_areas": null,
       "grid_template_columns": null,
       "grid_template_rows": null,
       "height": null,
       "justify_content": null,
       "justify_items": null,
       "left": null,
       "margin": null,
       "max_height": null,
       "max_width": null,
       "min_height": null,
       "min_width": null,
       "object_fit": null,
       "object_position": null,
       "order": null,
       "overflow": null,
       "overflow_x": null,
       "overflow_y": null,
       "padding": null,
       "right": null,
       "top": null,
       "visibility": null,
       "width": null
      }
     }
    },
    "version_major": 2,
    "version_minor": 0
   }
  }
 },
 "nbformat": 4,
 "nbformat_minor": 5
}
